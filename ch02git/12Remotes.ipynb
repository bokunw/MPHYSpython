{
 "cells": [
  {
   "cell_type": "markdown",
   "metadata": {},
   "source": [
    "## Working with multiple remotes\n",
    "\n",
    "### Distributed versus centralised\n",
    "\n",
    "Older version control systems (cvs, svn) were \"centralised\"; the history was kept only on a server,\n",
    "and all commits required an internet.\n",
    "\n",
    "Centralised                    |  Distributed\n",
    "-------------------------------|--------------------------\n",
    "Server has history             |Every user has full history\n",
    "Your computer has one snapshot |  Many local branches\n",
    "To access history, need internet| History always available\n",
    "You commit to remote server     | Users synchronise histories\n",
    "cvs, subversion(svn)            | git, mercurial (hg), bazaar (bzr)"
   ]
  },
  {
   "cell_type": "markdown",
   "metadata": {},
   "source": [
    "With modern distributed systems, we can add a second remote. This might be a personal *fork* on github:"
   ]
  },
  {
   "cell_type": "code",
   "execution_count": 15,
   "metadata": {
    "collapsed": false
   },
   "outputs": [
    {
     "ename": "OSError",
     "evalue": "[Errno 2] No such file or directory: '/Users/jamespjh/devel/rsdt/rsd-engineeringcourse/ch02git/learning_git/git_example/learning_git/git_example'",
     "output_type": "error",
     "traceback": [
      "\u001b[0;31m---------------------------------------------------------------------------\u001b[0m",
      "\u001b[0;31mOSError\u001b[0m                                   Traceback (most recent call last)",
      "\u001b[0;32m<ipython-input-15-0e99b315a891>\u001b[0m in \u001b[0;36m<module>\u001b[0;34m()\u001b[0m\n\u001b[1;32m      3\u001b[0m \u001b[0mgit_dir\u001b[0m \u001b[0;34m=\u001b[0m \u001b[0mos\u001b[0m\u001b[0;34m.\u001b[0m\u001b[0mpath\u001b[0m\u001b[0;34m.\u001b[0m\u001b[0mjoin\u001b[0m\u001b[0;34m(\u001b[0m\u001b[0mtop_dir\u001b[0m\u001b[0;34m,\u001b[0m \u001b[0;34m'learning_git'\u001b[0m\u001b[0;34m)\u001b[0m\u001b[0;34m\u001b[0m\u001b[0m\n\u001b[1;32m      4\u001b[0m \u001b[0mworking_dir\u001b[0m\u001b[0;34m=\u001b[0m\u001b[0mos\u001b[0m\u001b[0;34m.\u001b[0m\u001b[0mpath\u001b[0m\u001b[0;34m.\u001b[0m\u001b[0mjoin\u001b[0m\u001b[0;34m(\u001b[0m\u001b[0mgit_dir\u001b[0m\u001b[0;34m,\u001b[0m \u001b[0;34m'git_example'\u001b[0m\u001b[0;34m)\u001b[0m\u001b[0;34m\u001b[0m\u001b[0m\n\u001b[0;32m----> 5\u001b[0;31m \u001b[0mos\u001b[0m\u001b[0;34m.\u001b[0m\u001b[0mchdir\u001b[0m\u001b[0;34m(\u001b[0m\u001b[0mworking_dir\u001b[0m\u001b[0;34m)\u001b[0m\u001b[0;34m\u001b[0m\u001b[0m\n\u001b[0m",
      "\u001b[0;31mOSError\u001b[0m: [Errno 2] No such file or directory: '/Users/jamespjh/devel/rsdt/rsd-engineeringcourse/ch02git/learning_git/git_example/learning_git/git_example'"
     ]
    }
   ],
   "source": [
    "import os\n",
    "top_dir = os.getcwd()\n",
    "git_dir = os.path.join(top_dir, 'learning_git')\n",
    "working_dir=os.path.join(git_dir, 'git_example')\n",
    "os.chdir(working_dir)"
   ]
  },
  {
   "cell_type": "code",
   "execution_count": 16,
   "metadata": {
    "attributes": {
     "classes": [
      " Bash"
     ],
     "id": ""
    },
    "collapsed": false
   },
   "outputs": [
    {
     "name": "stdout",
     "output_type": "stream",
     "text": [
      "Your branch is ahead of 'origin/master' by 1 commit.\n",
      "jamespjh\tgit@github.com:jamespjh/github-example.git (fetch)\n",
      "jamespjh\tgit@github.com:jamespjh/github-example.git (push)\n",
      "local_bare\t../bare_repo (fetch)\n",
      "local_bare\t../bare_repo (push)\n",
      "origin\tgit@github.com:UCL/github-example.git (fetch)\n",
      "origin\tgit@github.com:UCL/github-example.git (push)\n"
     ]
    },
    {
     "name": "stderr",
     "output_type": "stream",
     "text": [
      "Switched to branch 'master'\n",
      "fatal: remote jamespjh already exists.\n"
     ]
    }
   ],
   "source": [
    "%%bash\n",
    "git checkout master\n",
    "git remote add jamespjh git@github.com:jamespjh/github-example.git\n",
    "git remote -v"
   ]
  },
  {
   "cell_type": "markdown",
   "metadata": {},
   "source": [
    "We can push to a named remote:"
   ]
  },
  {
   "cell_type": "code",
   "execution_count": 17,
   "metadata": {
    "collapsed": false
   },
   "outputs": [
    {
     "name": "stdout",
     "output_type": "stream",
     "text": [
      "Overwriting Pennines.md\n"
     ]
    }
   ],
   "source": [
    "%%writefile Pennines.md\n",
    "\n",
    "Mountains In the Pennines\n",
    "========================\n",
    "\n",
    "* Cross Fell\n",
    "* Whernside"
   ]
  },
  {
   "cell_type": "code",
   "execution_count": 18,
   "metadata": {
    "collapsed": false
   },
   "outputs": [
    {
     "name": "stdout",
     "output_type": "stream",
     "text": [
      "[master 2ec725a] Add Whernside\n",
      " 1 file changed, 2 insertions(+), 1 deletion(-)\n"
     ]
    }
   ],
   "source": [
    "%%bash\n",
    "git commit -am \"Add Whernside\""
   ]
  },
  {
   "cell_type": "code",
   "execution_count": 21,
   "metadata": {
    "collapsed": false
   },
   "outputs": [
    {
     "name": "stdout",
     "output_type": "stream",
     "text": [
      "Branch master set up to track remote branch master from jamespjh.\n"
     ]
    },
    {
     "name": "stderr",
     "output_type": "stream",
     "text": [
      "To git@github.com:jamespjh/github-example.git\n",
      " + 0e8ce67...2ec725a master -> master (forced update)\n"
     ]
    }
   ],
   "source": [
    "%%bash\n",
    "git push -uf jamespjh master"
   ]
  },
  {
   "cell_type": "markdown",
   "metadata": {},
   "source": [
    "### Referencing remotes\n",
    "\n",
    "You can always refer to commits on a remote like this:"
   ]
  },
  {
   "cell_type": "code",
   "execution_count": 22,
   "metadata": {
    "collapsed": false
   },
   "outputs": [
    {
     "name": "stdout",
     "output_type": "stream",
     "text": [
      "< 2ec725a Add Whernside\n",
      "< a19da7c Add github pages YAML frontmatter\n"
     ]
    },
    {
     "name": "stderr",
     "output_type": "stream",
     "text": [
      "From github.com:jamespjh/github-example\n",
      " * [new branch]      gh-pages   -> jamespjh/gh-pages\n"
     ]
    }
   ],
   "source": [
    "%%bash\n",
    "git fetch\n",
    "git log --oneline --left-right jamespjh/master...origin/master"
   ]
  },
  {
   "cell_type": "markdown",
   "metadata": {},
   "source": [
    "To see the differences between remotes, for example.\n",
    "\n",
    "To see what files you have changed that aren't updated on a particular remote, for example:"
   ]
  },
  {
   "cell_type": "code",
   "execution_count": 23,
   "metadata": {
    "collapsed": false
   },
   "outputs": [
    {
     "name": "stdout",
     "output_type": "stream",
     "text": [
      "Pennines.md\n",
      "index.md\n"
     ]
    }
   ],
   "source": [
    "%%bash\n",
    "git diff --name-only origin/master"
   ]
  },
  {
   "cell_type": "markdown",
   "metadata": {},
   "source": [
    "When you reference remotes like this, you're working with a cached copy of the last time you interacted with the remote. You can do `git fetch` to update local data with the remotes without actually pulling. You can also get useful information about whether tracking branches are ahead or behind the remote breanches they track:"
   ]
  },
  {
   "cell_type": "code",
   "execution_count": 24,
   "metadata": {
    "collapsed": false
   },
   "outputs": [
    {
     "name": "stdout",
     "output_type": "stream",
     "text": [
      "  gh-pages fb21ea4 Add Whernside\n",
      "* master   2ec725a [jamespjh/master] Add Whernside\n"
     ]
    }
   ],
   "source": [
    "%%bash\n",
    "git branch -vv"
   ]
  },
  {
   "cell_type": "markdown",
   "metadata": {},
   "source": [
    "## Hosting Servers\n",
    "\n",
    "### Hosting a local server\n",
    "\n",
    "* Any repository can be a remote for pulls\n",
    "* Can pull/push over shared folders or ssh\n",
    "* Pushing to someone's working copy is dangerous\n",
    "* Use `git init --bare` to make a copy for pushing\n",
    "* You don't need to create a \"server\" as such, any 'bare' git repo will do."
   ]
  },
  {
   "cell_type": "code",
   "execution_count": 25,
   "metadata": {
    "collapsed": false
   },
   "outputs": [
    {
     "ename": "OSError",
     "evalue": "[Errno 2] No such file or directory: '/Users/jamespjh/devel/rsdt/rsd-engineeringcourse/ch02git/learning_git/git_example/learning_git'",
     "output_type": "error",
     "traceback": [
      "\u001b[0;31m---------------------------------------------------------------------------\u001b[0m",
      "\u001b[0;31mOSError\u001b[0m                                   Traceback (most recent call last)",
      "\u001b[0;32m<ipython-input-25-63b2be9c146e>\u001b[0m in \u001b[0;36m<module>\u001b[0;34m()\u001b[0m\n\u001b[1;32m      1\u001b[0m \u001b[0mbare_dir\u001b[0m\u001b[0;34m=\u001b[0m\u001b[0mos\u001b[0m\u001b[0;34m.\u001b[0m\u001b[0mpath\u001b[0m\u001b[0;34m.\u001b[0m\u001b[0mjoin\u001b[0m\u001b[0;34m(\u001b[0m\u001b[0mgit_dir\u001b[0m\u001b[0;34m,\u001b[0m \u001b[0;34m'bare_repo'\u001b[0m\u001b[0;34m)\u001b[0m\u001b[0;34m\u001b[0m\u001b[0m\n\u001b[0;32m----> 2\u001b[0;31m \u001b[0mos\u001b[0m\u001b[0;34m.\u001b[0m\u001b[0mchdir\u001b[0m\u001b[0;34m(\u001b[0m\u001b[0mgit_dir\u001b[0m\u001b[0;34m)\u001b[0m\u001b[0;34m\u001b[0m\u001b[0m\n\u001b[0m",
      "\u001b[0;31mOSError\u001b[0m: [Errno 2] No such file or directory: '/Users/jamespjh/devel/rsdt/rsd-engineeringcourse/ch02git/learning_git/git_example/learning_git'"
     ]
    }
   ],
   "source": [
    "bare_dir=os.path.join(git_dir, 'bare_repo')\n",
    "os.chdir(git_dir)"
   ]
  },
  {
   "cell_type": "code",
   "execution_count": 26,
   "metadata": {
    "collapsed": false
   },
   "outputs": [
    {
     "name": "stdout",
     "output_type": "stream",
     "text": [
      "Initialized empty Git repository in /Users/jamespjh/devel/rsdt/rsd-engineeringcourse/ch02git/learning_git/git_example/bare_repo/\n"
     ]
    }
   ],
   "source": [
    "%%bash\n",
    "mkdir -p bare_repo\n",
    "cd bare_repo\n",
    "git init --bare"
   ]
  },
  {
   "cell_type": "code",
   "execution_count": 27,
   "metadata": {
    "collapsed": false
   },
   "outputs": [
    {
     "ename": "OSError",
     "evalue": "[Errno 2] No such file or directory: '/Users/jamespjh/devel/rsdt/rsd-engineeringcourse/ch02git/learning_git/git_example/learning_git/git_example'",
     "output_type": "error",
     "traceback": [
      "\u001b[0;31m---------------------------------------------------------------------------\u001b[0m",
      "\u001b[0;31mOSError\u001b[0m                                   Traceback (most recent call last)",
      "\u001b[0;32m<ipython-input-27-678c239be373>\u001b[0m in \u001b[0;36m<module>\u001b[0;34m()\u001b[0m\n\u001b[0;32m----> 1\u001b[0;31m \u001b[0mos\u001b[0m\u001b[0;34m.\u001b[0m\u001b[0mchdir\u001b[0m\u001b[0;34m(\u001b[0m\u001b[0mworking_dir\u001b[0m\u001b[0;34m)\u001b[0m\u001b[0;34m\u001b[0m\u001b[0m\n\u001b[0m",
      "\u001b[0;31mOSError\u001b[0m: [Errno 2] No such file or directory: '/Users/jamespjh/devel/rsdt/rsd-engineeringcourse/ch02git/learning_git/git_example/learning_git/git_example'"
     ]
    }
   ],
   "source": [
    "os.chdir(working_dir)"
   ]
  },
  {
   "cell_type": "code",
   "execution_count": 28,
   "metadata": {
    "collapsed": false
   },
   "outputs": [
    {
     "name": "stderr",
     "output_type": "stream",
     "text": [
      "fatal: remote local_bare already exists.\n",
      "fatal: You are pushing to remote 'local_bare', which is not the upstream of\n",
      "your current branch 'master', without telling me what to push\n",
      "to update which remote branch.\n"
     ]
    }
   ],
   "source": [
    "%%bash\n",
    "git remote add local_bare ../bare_repo\n",
    "git push -u local_bare master"
   ]
  },
  {
   "cell_type": "code",
   "execution_count": 29,
   "metadata": {
    "collapsed": false
   },
   "outputs": [
    {
     "name": "stdout",
     "output_type": "stream",
     "text": [
      "jamespjh\tgit@github.com:jamespjh/github-example.git (fetch)\n",
      "jamespjh\tgit@github.com:jamespjh/github-example.git (push)\n",
      "local_bare\t../bare_repo (fetch)\n",
      "local_bare\t../bare_repo (push)\n",
      "origin\tgit@github.com:UCL/github-example.git (fetch)\n",
      "origin\tgit@github.com:UCL/github-example.git (push)\n"
     ]
    }
   ],
   "source": [
    "%%bash\n",
    "git remote -v"
   ]
  },
  {
   "cell_type": "markdown",
   "metadata": {},
   "source": [
    "You can now work with this local repository, just as with any other git server.\n",
    "If you have a colleague on a shared file system, you can use this approach to collaborate through that file system."
   ]
  },
  {
   "cell_type": "markdown",
   "metadata": {},
   "source": [
    "### Home-made SSH servers\n",
    "\n",
    "Classroom exercise: Try creating a server for yourself using a machine you can SSH to:"
   ]
  },
  {
   "cell_type": "markdown",
   "metadata": {
    "collapsed": true
   },
   "source": [
    "``` bash\n",
    "ssh <mymachine>\n",
    "mkdir mygitserver\n",
    "cd mygitserver\n",
    "git init --bare\n",
    "exit\n",
    "git remote add <somename> ssh://user@host/mygitserver\n",
    "git push -u <somename> master\n",
    "```"
   ]
  },
  {
   "cell_type": "markdown",
   "metadata": {},
   "source": [
    "## SSH keys and GitHub\n",
    "\n",
    "Classroom exercise: If you haven't already, you should set things up so that you don't have to keep typing in your\n",
    "password whenever you interact with GitHub via the command line.\n",
    "\n",
    "You can do this with an \"ssh keypair\". You may have created a keypair in the\n",
    "Software Carpentry shell training. Go to the [ssh settings\n",
    "page](https://github.com/settings/ssh) on GitHub and upload your public key by\n",
    "copying the content from your computer. (Probably at .ssh/id_rsa.pub)\n",
    "\n",
    "If you have difficulties, the instructions for this are [on the GitHub\n",
    "website](https://help.github.com/articles/generating-ssh-keys). "
   ]
  }
 ],
 "metadata": {
  "jekyll": {
   "display_name": "Remotes"
  },
  "kernelspec": {
   "display_name": "Python 3",
   "language": "python",
   "name": "python3"
  },
  "language_info": {
   "codemirror_mode": {
    "name": "ipython",
    "version": 3
   },
   "file_extension": ".py",
   "mimetype": "text/x-python",
   "name": "python",
   "nbconvert_exporter": "python",
   "pygments_lexer": "ipython3",
   "version": "3.5.2"
  }
 },
 "nbformat": 4,
 "nbformat_minor": 0
}
