{
 "cells": [
  {
   "cell_type": "markdown",
   "metadata": {},
   "source": [
    "## Git Theory\n",
    "\n",
    "### The revision Graph\n",
    "\n",
    "Revisions form a **GRAPH**"
   ]
  },
  {
   "cell_type": "code",
   "execution_count": 1,
   "metadata": {
    "collapsed": false
   },
   "outputs": [],
   "source": [
    "import os\n",
    "top_dir = os.getcwd()\n",
    "git_dir = os.path.join(top_dir, 'learning_git')\n",
    "working_dir=os.path.join(git_dir, 'git_example')\n",
    "os.chdir(working_dir)"
   ]
  },
  {
   "cell_type": "code",
   "execution_count": 2,
   "metadata": {
    "collapsed": false
   },
   "outputs": [
    {
     "name": "stdout",
     "output_type": "stream",
     "text": [
      "*   5f73fff Merge branch 'master' of github.com:UCL/github-example\n",
      "|\\  \n",
      "| * 3c4a02f Add another Beacon\n",
      "* | a5f66ac Add Glyder\n",
      "|/  \n",
      "*   54a5484 Merge branch 'master' of github.com:UCL/github-example\n",
      "|\\  \n",
      "| * b3d5585 Add a beacon\n",
      "* | b7eba49 Translating from the Welsh\n",
      "|/  \n",
      "*   4bc25e9 Merge branch 'master' of github.com:UCL/github-example\n",
      "|\\  \n",
      "| * aed6a4d Add Scotland\n",
      "* | d7d7243 Add wales\n",
      "|/  \n",
      "* 79b1285 Add Helvellyn\n",
      "* cdd35b8 Include lakes in the scope\n",
      "* 76322e5 Add lakeland\n",
      "* e533bb0 Revert \"Add a lie about a mountain\"\n",
      "* 972c8ed Change title\n",
      "* 04ada3b Add a lie about a mountain\n",
      "* 03915a3 First commit of discourse on UK topography\n"
     ]
    }
   ],
   "source": [
    "%%bash\n",
    "git log --graph --oneline"
   ]
  },
  {
   "cell_type": "markdown",
   "metadata": {},
   "source": [
    "### Git concepts\n",
    "\n",
    "* Each revision has a parent that it is based on\n",
    "* These revisions form a graph\n",
    "* Each revision has a unique hash code\n",
    "  * In Sue's copy, revision 43 is ab3578d6\n",
    "  * Jim might think that is revision 38, but it's still ab3579d6\n",
    "* Branches, tags, and HEAD are *labels* pointing at revisions\n",
    "* Some operations (like fast forward merges) just move labels."
   ]
  },
  {
   "cell_type": "markdown",
   "metadata": {},
   "source": [
    "### The levels of Git"
   ]
  },
  {
   "cell_type": "markdown",
   "metadata": {},
   "source": [
    "There are four **Separate** levels a change can reach in git:"
   ]
  },
  {
   "cell_type": "markdown",
   "metadata": {},
   "source": [
    "* The Working Copy\n",
    "* The **index** (aka **staging area**)\n",
    "* The local repository\n",
    "* The remote repository"
   ]
  },
  {
   "cell_type": "markdown",
   "metadata": {},
   "source": [
    "Understanding all the things `git reset` can do requires a good\n",
    "grasp of git theory."
   ]
  },
  {
   "cell_type": "markdown",
   "metadata": {
    "collapsed": true
   },
   "source": [
    "* `git reset <commit> <filename>` : Reset index and working version of that file to the version in a given commit\n",
    "* `git reset --soft <commit>`: Move local repository branch label to that commit, leave working dir and index unchanged\n",
    "* `git reset <commit>`: Move local repository and index to commit (\"--mixed\")\n",
    "* `git reset --hard <commit>`: Move local repostiory, index, and working directory copy to that state"
   ]
  }
 ],
 "metadata": {
  "jekyll": {
   "display_name": "Git Theory"
  },
  "kernelspec": {
   "display_name": "Python 3",
   "language": "python",
   "name": "python3"
  },
  "language_info": {
   "codemirror_mode": {
    "name": "ipython",
    "version": 3
   },
   "file_extension": ".py",
   "mimetype": "text/x-python",
   "name": "python",
   "nbconvert_exporter": "python",
   "pygments_lexer": "ipython3",
   "version": "3.5.2"
  }
 },
 "nbformat": 4,
 "nbformat_minor": 0
}
