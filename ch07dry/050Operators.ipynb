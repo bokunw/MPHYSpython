{
 "cells": [
  {
   "cell_type": "markdown",
   "metadata": {},
   "source": [
    "## Operator overloading"
   ]
  },
  {
   "cell_type": "markdown",
   "metadata": {},
   "source": [
    "Warning: Advanced Topic!"
   ]
  },
  {
   "cell_type": "markdown",
   "metadata": {},
   "source": [
    "### Operator overloading"
   ]
  },
  {
   "cell_type": "markdown",
   "metadata": {},
   "source": [
    "We need to use a metaprogramming trick to make this teaching notebook work.\n",
    "I want to be able to put explanatory text in between parts of a class definition,\n",
    "so I'll define a decorator to help me build up a class definition gradually."
   ]
  },
  {
   "cell_type": "code",
   "execution_count": 1,
   "metadata": {
    "collapsed": false
   },
   "outputs": [],
   "source": [
    "def extend(class_to_extend):\n",
    "    \"\"\" Metaprogramming to allow gradual implementation\n",
    "    of class during notebook. Thanks to\n",
    "    http://www.ianbicking.org/blog/2007/08/opening-python-classes.html \"\"\"\n",
    "    def decorator(extending_class):\n",
    "        for name, value in extending_class.__dict__.items():\n",
    "            if name in ['__dict__','__module__', '__weakref__', '__doc__']:\n",
    "                continue\n",
    "            setattr(class_to_extend,name,value)\n",
    "        return class_to_extend\n",
    "    return decorator"
   ]
  },
  {
   "cell_type": "markdown",
   "metadata": {},
   "source": [
    "\n",
    "\n",
    "\n",
    "\n",
    "Imagine we wanted to make a library to describe some kind of symbolic algebra system:\n",
    "\n",
    "\n"
   ]
  },
  {
   "cell_type": "code",
   "execution_count": 4,
   "metadata": {
    "collapsed": true
   },
   "outputs": [],
   "source": [
    "class Term(object):\n",
    "    def __init__(self, symbols=[], powers=[], coefficient=1):\n",
    "        self.coefficient = coefficient\n",
    "        self.data={symbol: exponent for symbol,exponent\n",
    "                in zip(symbols, powers)}"
   ]
  },
  {
   "cell_type": "code",
   "execution_count": 5,
   "metadata": {
    "collapsed": false
   },
   "outputs": [],
   "source": [
    "class Expression(object):\n",
    "    def __init__(self, terms):\n",
    "        self.terms=terms"
   ]
  },
  {
   "cell_type": "markdown",
   "metadata": {},
   "source": [
    "\n",
    "\n",
    "\n",
    "So that $5x^2y+7x+2$ might be constructed as:\n",
    "\n",
    "\n"
   ]
  },
  {
   "cell_type": "code",
   "execution_count": 6,
   "metadata": {
    "collapsed": false
   },
   "outputs": [],
   "source": [
    "first=Term(['x','y'],[2,1],5)\n",
    "\n",
    "second=Term(['x'],[1],7)\n",
    "\n",
    "third=Term([],[],2)\n",
    "\n",
    "result=Expression([first, second, third])"
   ]
  },
  {
   "cell_type": "markdown",
   "metadata": {},
   "source": [
    "\n",
    "\n",
    "\n",
    "This is pretty cumbersome.\n",
    "\n",
    "What we'd really like is to have `2x+y` give an appropriate expression.\n",
    "\n",
    "First, we'll define things so that we can construct our terms and expressions in different ways.\n",
    "\n",
    "\n"
   ]
  },
  {
   "cell_type": "code",
   "execution_count": 10,
   "metadata": {
    "collapsed": false
   },
   "outputs": [],
   "source": [
    "class Term(object):\n",
    "    def __init__(self, *args):\n",
    "        lead=args[0]\n",
    "        if type(lead)==type(self):\n",
    "            # Copy constructor\n",
    "            self.data = dict(lead.data)\n",
    "            self.coefficient = lead.coefficient\n",
    "        elif type(lead) == int:\n",
    "            self.from_constant(lead)\n",
    "        elif type(lead) == str:\n",
    "            self.from_symbol(*args)\n",
    "        elif type(lead) == dict:\n",
    "            self.from_dictionary(*args)\n",
    "        else:\n",
    "            self.from_lists(*args)\n",
    "            \n",
    "    def from_constant(self, constant):\n",
    "        self.coefficient = constant\n",
    "        self.data={}\n",
    "        \n",
    "    def from_symbol(self, symbol, coefficient=1, power=1):\n",
    "        self.coefficient = coefficient\n",
    "        self.data={symbol:power}\n",
    "        \n",
    "    def from_dictionary(self, data, coefficient=1):\n",
    "        self.data = data\n",
    "        self.coefficient = coefficient\n",
    "        \n",
    "    def from_lists(self, symbols=[], powers=[], coefficient=1):\n",
    "        self.coefficient=coefficient\n",
    "        self.data={symbol: exponent for symbol,exponent\n",
    "                in zip(symbols, powers)}"
   ]
  },
  {
   "cell_type": "code",
   "execution_count": 11,
   "metadata": {
    "collapsed": false
   },
   "outputs": [],
   "source": [
    "class Expression(object):\n",
    "    def __init__(self, terms=[]):\n",
    "        self.terms = list(terms)"
   ]
  },
  {
   "cell_type": "markdown",
   "metadata": {},
   "source": [
    "\n",
    "\n",
    "\n",
    "We could define add() and multiply() operations on expressions and terms:\n",
    "\n",
    "\n"
   ]
  },
  {
   "cell_type": "code",
   "execution_count": 12,
   "metadata": {
    "collapsed": false
   },
   "outputs": [],
   "source": [
    "@extend(Term)\n",
    "class Term(object):\n",
    "    def add(self, *others):\n",
    "        return Expression((self,)+others)\n",
    "    "
   ]
  },
  {
   "cell_type": "code",
   "execution_count": 13,
   "metadata": {
    "collapsed": false
   },
   "outputs": [],
   "source": [
    "@extend(Term)\n",
    "class Term(object):\n",
    "    def multiply(self, *others):\n",
    "        result_data=dict(self.data)\n",
    "        result_coeff = self.coefficient\n",
    "        # Convert arguments to Terms first if they are\n",
    "        # constants or integers\n",
    "        others=map(Term,others)\n",
    "        \n",
    "        for another in others:\n",
    "            for symbol, exponent in another.data.items():\n",
    "                if symbol in result_data:\n",
    "                    result_data[symbol] += another.data[symbol]\n",
    "                else:\n",
    "                    result_data[symbol] = another.data[symbol]\n",
    "            result_coeff*=another.coefficient\n",
    "        \n",
    "        return Term(result_data,result_coeff)"
   ]
  },
  {
   "cell_type": "code",
   "execution_count": 14,
   "metadata": {
    "collapsed": false
   },
   "outputs": [],
   "source": [
    "@extend(Expression)\n",
    "class Expression(object):\n",
    "    def add(self, *others):\n",
    "        result = Expression(self.terms)\n",
    "        \n",
    "        for another in others:\n",
    "            if type(another)==Term:\n",
    "                result.terms.append(another)\n",
    "            else:\n",
    "                result.terms+=another.terms\n",
    "                \n",
    "        return result"
   ]
  },
  {
   "cell_type": "markdown",
   "metadata": {},
   "source": [
    "\n",
    "\n",
    "\n",
    "We can now construct the above expression as:\n",
    "\n",
    "\n"
   ]
  },
  {
   "cell_type": "code",
   "execution_count": 15,
   "metadata": {
    "collapsed": false
   },
   "outputs": [],
   "source": [
    "x=Term('x')\n",
    "y=Term('y')\n",
    "\n",
    "first=Term(5).multiply(Term('x'),Term('x'),Term('y'))\n",
    "second=Term(7).multiply(Term('x'))\n",
    "third=Term(2)\n",
    "expr=first.add(second,third)"
   ]
  },
  {
   "cell_type": "markdown",
   "metadata": {},
   "source": [
    "\n",
    "\n",
    "\n",
    "This is better, but we still can't write the expression in a 'natural' way.\n",
    "\n",
    "However, we can define what `*` and `+` do when applied to Terms!:\n",
    "\n",
    "\n"
   ]
  },
  {
   "cell_type": "code",
   "execution_count": 16,
   "metadata": {
    "collapsed": false
   },
   "outputs": [],
   "source": [
    "@extend(Term)\n",
    "class Term(object):\n",
    "    \n",
    "    def __add__(self, other):\n",
    "        return self.add(other)\n",
    "    \n",
    "    def __mul__(self, other):\n",
    "        return self.multiply(other)"
   ]
  },
  {
   "cell_type": "code",
   "execution_count": 17,
   "metadata": {
    "collapsed": false
   },
   "outputs": [],
   "source": [
    "@extend(Expression)\n",
    "class Expression(object):\n",
    "    def multiply(self, another):\n",
    "        # Distributive law left as exercise\n",
    "        pass\n",
    "    \n",
    "    def __add__(self, other):\n",
    "        return self.add(other)"
   ]
  },
  {
   "cell_type": "code",
   "execution_count": 18,
   "metadata": {
    "collapsed": false
   },
   "outputs": [
    {
     "data": {
      "text/plain": [
       "'y'"
      ]
     },
     "execution_count": 18,
     "metadata": {},
     "output_type": "execute_result"
    }
   ],
   "source": [
    "x_plus_y=Term('x')+'y'\n",
    "x_plus_y.terms[1]"
   ]
  },
  {
   "cell_type": "code",
   "execution_count": 21,
   "metadata": {
    "collapsed": false
   },
   "outputs": [
    {
     "name": "stdout",
     "output_type": "stream",
     "text": [
      "{'x': 1, 'y': 2} 5\n"
     ]
    }
   ],
   "source": [
    "five_x_ysq=Term('x')*5*'y'*'y'\n",
    "\n",
    "print(five_x_ysq.data, five_x_ysq.coefficient)"
   ]
  },
  {
   "cell_type": "markdown",
   "metadata": {},
   "source": [
    "\n",
    "\n",
    "\n",
    "This is called operator overloading. We can define what add and multiply mean when applied to our class.\n",
    "\n",
    "Note that this only works so far if we multiply on the right-hand-side!\n",
    "However, we can define a multiplication that works backwards, which is used as a fallback if the left multiply raises an error:\n",
    "\n",
    "\n"
   ]
  },
  {
   "cell_type": "code",
   "execution_count": 22,
   "metadata": {
    "collapsed": false
   },
   "outputs": [],
   "source": [
    "@extend(Expression)\n",
    "class Expression(object):\n",
    "    def __radd__(self, other):\n",
    "        return self.__add__(other)"
   ]
  },
  {
   "cell_type": "markdown",
   "metadata": {},
   "source": [
    "\n",
    "\n",
    "\n"
   ]
  },
  {
   "cell_type": "code",
   "execution_count": 23,
   "metadata": {
    "collapsed": false
   },
   "outputs": [],
   "source": [
    "@extend(Term)\n",
    "class Term(object):\n",
    "    def __rmul__(self, other):\n",
    "        return self.__mul__(other)\n",
    "    \n",
    "    def __radd__(self, other):\n",
    "        return self.__add__(other)"
   ]
  },
  {
   "cell_type": "markdown",
   "metadata": {},
   "source": [
    "\n",
    "\n",
    "\n",
    "\n",
    "\n"
   ]
  },
  {
   "cell_type": "code",
   "execution_count": 24,
   "metadata": {
    "collapsed": false
   },
   "outputs": [
    {
     "data": {
      "text/plain": [
       "<__main__.Term at 0x1046c5fd0>"
      ]
     },
     "execution_count": 24,
     "metadata": {},
     "output_type": "execute_result"
    }
   ],
   "source": [
    "5*Term('x')"
   ]
  },
  {
   "cell_type": "markdown",
   "metadata": {},
   "source": [
    "\n",
    "\n",
    "\n",
    "It's not easy at the moment to see if these things are working!\n",
    "\n",
    "\n"
   ]
  },
  {
   "cell_type": "code",
   "execution_count": 26,
   "metadata": {
    "collapsed": false
   },
   "outputs": [
    {
     "data": {
      "text/plain": [
       "({'x': 1}, 5)"
      ]
     },
     "execution_count": 26,
     "metadata": {},
     "output_type": "execute_result"
    }
   ],
   "source": [
    "fivex=5*Term('x')\n",
    "fivex.data, fivex.coefficient"
   ]
  },
  {
   "cell_type": "markdown",
   "metadata": {},
   "source": [
    "\n",
    "\n",
    "\n",
    "We can add another operator method `__str__`, which defines what happens if we try to print our class:\n",
    "\n",
    "\n"
   ]
  },
  {
   "cell_type": "code",
   "execution_count": 27,
   "metadata": {
    "collapsed": false
   },
   "outputs": [],
   "source": [
    "@extend(Term)\n",
    "class Term(object):\n",
    "    def __str__(self):\n",
    "        def symbol_string(symbol, power):\n",
    "            if power==1:\n",
    "                return symbol\n",
    "            else:\n",
    "                return symbol+'^'+str(power)\n",
    "            \n",
    "        symbol_strings=[symbol_string(symbol, power)\n",
    "                for symbol, power in self.data.items()]\n",
    "        \n",
    "        prod='*'.join(symbol_strings)\n",
    "        \n",
    "        if not prod:\n",
    "            return str(self.coefficient)\n",
    "        if self.coefficient==1:\n",
    "            return prod\n",
    "        else:\n",
    "            return str(self.coefficient)+'*'+prod"
   ]
  },
  {
   "cell_type": "code",
   "execution_count": 28,
   "metadata": {
    "collapsed": false
   },
   "outputs": [],
   "source": [
    "@extend(Expression)\n",
    "class Expression(object):\n",
    "    def __str__(self):\n",
    "        return '+'.join(map(str,self.terms))"
   ]
  },
  {
   "cell_type": "markdown",
   "metadata": {},
   "source": [
    "\n",
    "\n",
    "\n"
   ]
  },
  {
   "cell_type": "code",
   "execution_count": 29,
   "metadata": {
    "collapsed": true
   },
   "outputs": [],
   "source": [
    "first=Term(5)*'x'*'x'*'y'\n",
    "second=Term(7)*'x'\n",
    "third=Term(2)\n",
    "expr=first+second+third"
   ]
  },
  {
   "cell_type": "code",
   "execution_count": 30,
   "metadata": {
    "collapsed": false
   },
   "outputs": [
    {
     "name": "stdout",
     "output_type": "stream",
     "text": [
      "5*x^2*y+7*x+2\n"
     ]
    }
   ],
   "source": [
    "print(expr)"
   ]
  },
  {
   "cell_type": "markdown",
   "metadata": {},
   "source": [
    "We can add lots more operators to classes. `__eq__` to determine if objects are\n",
    "equal. `__getitem__` to apply [1] to your object. Probably the most exciting\n",
    "one is `__call__`, which overrides the `()` operator; allows us to define classes that *behave like\n",
    "functions*! We call these callables."
   ]
  },
  {
   "cell_type": "code",
   "execution_count": 69,
   "metadata": {
    "collapsed": false
   },
   "outputs": [
    {
     "name": "stdout",
     "output_type": "stream",
     "text": [
      "Hello James\n"
     ]
    }
   ],
   "source": [
    "class Greeter(object):\n",
    "    def __init__(self, greeting):\n",
    "        self.greeting = greeting\n",
    "        \n",
    "    def __call__(self, name):\n",
    "        print(self.greeting, name)\n",
    "\n",
    "greeter_instance = Greeter(\"Hello\")\n",
    "\n",
    "greeter_instance(\"James\")"
   ]
  },
  {
   "cell_type": "markdown",
   "metadata": {},
   "source": [
    "\n",
    "\n",
    "\n",
    "We've now come full circle in the blurring of the distinction between functions and objects! The full power of functional programming is really remarkable.\n",
    "\n",
    "If you want to know more about the topics in this lecture, using a different\n",
    "language syntax, I recommend you watch the [Abelson and Sussman](https://www.youtube.com/watch?v=2Op3QLzMgSY)\n",
    "\"Structure and Interpretation of Computer Programs\" lectures. These are the Computer Science\n",
    "equivalent of the Feynman Lectures!\n"
   ]
  }
 ],
 "metadata": {
  "jekyll": {
   "display_name": "Operator Overloading"
  },
  "kernelspec": {
   "display_name": "Python 3",
   "language": "python",
   "name": "python3"
  },
  "language_info": {
   "codemirror_mode": {
    "name": "ipython",
    "version": 3
   },
   "file_extension": ".py",
   "mimetype": "text/x-python",
   "name": "python",
   "nbconvert_exporter": "python",
   "pygments_lexer": "ipython3",
   "version": "3.5.2"
  }
 },
 "nbformat": 4,
 "nbformat_minor": 0
}
