{
 "cells": [
  {
   "cell_type": "markdown",
   "metadata": {},
   "source": [
    "## Exceptions"
   ]
  },
  {
   "cell_type": "markdown",
   "metadata": {},
   "source": [
    "### Exceptions"
   ]
  },
  {
   "cell_type": "markdown",
   "metadata": {},
   "source": [
    "\n",
    "When we learned about testing, we saw that Python complains when things go wrong by raising an \"Exception\" naming a type of error:\n",
    "\n",
    "\n"
   ]
  },
  {
   "cell_type": "code",
   "execution_count": 1,
   "metadata": {
    "collapsed": false
   },
   "outputs": [
    {
     "ename": "ZeroDivisionError",
     "evalue": "division by zero",
     "output_type": "error",
     "traceback": [
      "\u001b[0;31m---------------------------------------------------------------------------\u001b[0m",
      "\u001b[0;31mZeroDivisionError\u001b[0m                         Traceback (most recent call last)",
      "\u001b[0;32m<ipython-input-1-05c9758a9c21>\u001b[0m in \u001b[0;36m<module>\u001b[0;34m()\u001b[0m\n\u001b[0;32m----> 1\u001b[0;31m \u001b[0;36m1\u001b[0m\u001b[0;34m/\u001b[0m\u001b[0;36m0\u001b[0m\u001b[0;34m\u001b[0m\u001b[0m\n\u001b[0m",
      "\u001b[0;31mZeroDivisionError\u001b[0m: division by zero"
     ]
    }
   ],
   "source": [
    "1/0"
   ]
  },
  {
   "cell_type": "markdown",
   "metadata": {},
   "source": [
    "\n",
    "\n",
    "Exceptions are objects, forming a class hierarchy. We just raised an instance\n",
    "of the ZeroDivisionError class, making the program crash.\n",
    "\n",
    "\n"
   ]
  },
  {
   "cell_type": "code",
   "execution_count": 2,
   "metadata": {
    "collapsed": false
   },
   "outputs": [
    {
     "data": {
      "text/plain": [
       "(ZeroDivisionError, ArithmeticError, Exception, BaseException, object)"
      ]
     },
     "execution_count": 2,
     "metadata": {},
     "output_type": "execute_result"
    }
   ],
   "source": [
    "import inspect\n",
    "inspect.getmro(ZeroDivisionError)"
   ]
  },
  {
   "cell_type": "markdown",
   "metadata": {},
   "source": [
    "\n",
    "\n",
    "So we can see that a zero division error is a particular kind of Arithmetic Error.\n",
    "\n",
    "\n"
   ]
  },
  {
   "cell_type": "code",
   "execution_count": 3,
   "metadata": {
    "collapsed": false
   },
   "outputs": [
    {
     "ename": "TypeError",
     "evalue": "'int' object is not iterable",
     "output_type": "error",
     "traceback": [
      "\u001b[0;31m---------------------------------------------------------------------------\u001b[0m",
      "\u001b[0;31mTypeError\u001b[0m                                 Traceback (most recent call last)",
      "\u001b[0;32m<ipython-input-3-47e8ad423b77>\u001b[0m in \u001b[0;36m<module>\u001b[0;34m()\u001b[0m\n\u001b[1;32m      1\u001b[0m \u001b[0mx\u001b[0m\u001b[0;34m=\u001b[0m\u001b[0;36m1\u001b[0m\u001b[0;34m\u001b[0m\u001b[0m\n\u001b[1;32m      2\u001b[0m \u001b[0;34m\u001b[0m\u001b[0m\n\u001b[0;32m----> 3\u001b[0;31m \u001b[0;32mfor\u001b[0m \u001b[0my\u001b[0m \u001b[0;32min\u001b[0m \u001b[0mx\u001b[0m\u001b[0;34m:\u001b[0m \u001b[0mprint\u001b[0m\u001b[0;34m(\u001b[0m\u001b[0my\u001b[0m\u001b[0;34m)\u001b[0m\u001b[0;34m\u001b[0m\u001b[0m\n\u001b[0m",
      "\u001b[0;31mTypeError\u001b[0m: 'int' object is not iterable"
     ]
    }
   ],
   "source": [
    "x=1\n",
    "\n",
    "for y in x: print(y)"
   ]
  },
  {
   "cell_type": "code",
   "execution_count": 4,
   "metadata": {
    "collapsed": false
   },
   "outputs": [
    {
     "data": {
      "text/plain": [
       "(TypeError, Exception, BaseException, object)"
      ]
     },
     "execution_count": 4,
     "metadata": {},
     "output_type": "execute_result"
    }
   ],
   "source": [
    "inspect.getmro(TypeError)"
   ]
  },
  {
   "cell_type": "markdown",
   "metadata": {},
   "source": [
    "\n",
    "\n",
    "\n",
    "When we were looking at testing, we saw that it is important for code to crash with a meaningful exception type when something is wrong.\n",
    "We raise an Exception with `raise`. Often, we can look for an appropriate exception from the standard set to raise. \n",
    "\n",
    "However, we may want to define our own exceptions. Doing this is as simple as inheriting from Exception:\n",
    "\n",
    "\n"
   ]
  },
  {
   "cell_type": "code",
   "execution_count": 6,
   "metadata": {
    "collapsed": false
   },
   "outputs": [
    {
     "ename": "MyCustomErrorType",
     "evalue": "Problem",
     "output_type": "error",
     "traceback": [
      "\u001b[0;31m---------------------------------------------------------------------------\u001b[0m",
      "\u001b[0;31mMyCustomErrorType\u001b[0m                         Traceback (most recent call last)",
      "\u001b[0;32m<ipython-input-6-59beeb91fa6a>\u001b[0m in \u001b[0;36m<module>\u001b[0;34m()\u001b[0m\n\u001b[1;32m      2\u001b[0m     \u001b[0;32mpass\u001b[0m\u001b[0;34m\u001b[0m\u001b[0m\n\u001b[1;32m      3\u001b[0m \u001b[0;34m\u001b[0m\u001b[0m\n\u001b[0;32m----> 4\u001b[0;31m \u001b[0;32mraise\u001b[0m\u001b[0;34m(\u001b[0m\u001b[0mMyCustomErrorType\u001b[0m\u001b[0;34m(\u001b[0m\u001b[0;34m\"Problem\"\u001b[0m\u001b[0;34m)\u001b[0m\u001b[0;34m)\u001b[0m\u001b[0;34m\u001b[0m\u001b[0m\n\u001b[0m",
      "\u001b[0;31mMyCustomErrorType\u001b[0m: Problem"
     ]
    }
   ],
   "source": [
    "class MyCustomErrorType(ArithmeticError):\n",
    "    pass\n",
    "\n",
    "raise(MyCustomErrorType(\"Problem\"))"
   ]
  },
  {
   "cell_type": "markdown",
   "metadata": {},
   "source": [
    "\n",
    "\n",
    "You can add custom data to your exception:\n",
    "\n",
    "\n"
   ]
  },
  {
   "cell_type": "code",
   "execution_count": 5,
   "metadata": {
    "collapsed": false
   },
   "outputs": [
    {
     "ename": "MyCustomErrorType",
     "evalue": "Error, cateory 404",
     "output_type": "error",
     "traceback": [
      "\u001b[0;31m---------------------------------------------------------------------------\u001b[0m",
      "\u001b[0;31mMyCustomErrorType\u001b[0m                         Traceback (most recent call last)",
      "\u001b[0;32m<ipython-input-5-7f8db3bcfb4d>\u001b[0m in \u001b[0;36m<module>\u001b[0;34m()\u001b[0m\n\u001b[1;32m      6\u001b[0m         \u001b[0;32mreturn\u001b[0m \u001b[0;34m\"Error, cateory \"\u001b[0m \u001b[0;34m+\u001b[0m \u001b[0mstr\u001b[0m\u001b[0;34m(\u001b[0m\u001b[0mself\u001b[0m\u001b[0;34m.\u001b[0m \u001b[0mcategory\u001b[0m\u001b[0;34m)\u001b[0m\u001b[0;34m\u001b[0m\u001b[0m\n\u001b[1;32m      7\u001b[0m \u001b[0;34m\u001b[0m\u001b[0m\n\u001b[0;32m----> 8\u001b[0;31m \u001b[0;32mraise\u001b[0m\u001b[0;34m(\u001b[0m\u001b[0mMyCustomErrorType\u001b[0m\u001b[0;34m(\u001b[0m\u001b[0;36m404\u001b[0m\u001b[0;34m)\u001b[0m\u001b[0;34m)\u001b[0m\u001b[0;34m\u001b[0m\u001b[0m\n\u001b[0m",
      "\u001b[0;31mMyCustomErrorType\u001b[0m: Error, cateory 404"
     ]
    }
   ],
   "source": [
    "class MyCustomErrorType(Exception):\n",
    "    def __init__(self, category=None):\n",
    "        self.category=category\n",
    "        \n",
    "    def __str__(self):\n",
    "        return \"Error, cateory \" + str(self. category)\n",
    "\n",
    "raise(MyCustomErrorType(404))"
   ]
  },
  {
   "cell_type": "markdown",
   "metadata": {},
   "source": [
    "\n",
    "\n",
    "The real power of exceptions comes, however, not in letting them crash the program, but in letting your program handle them. We say that an exception has been \"thrown\" and then \"caught\".\n",
    "\n",
    "\n"
   ]
  },
  {
   "cell_type": "code",
   "execution_count": 14,
   "metadata": {
    "collapsed": false
   },
   "outputs": [
    {
     "name": "stdout",
     "output_type": "stream",
     "text": [
      "No password file found, using anonymous user.\n",
      "anonymous\n"
     ]
    }
   ],
   "source": [
    "import yaml\n",
    "\n",
    "try:\n",
    "    config=yaml.load(open(\"datasource.yaml\"))\n",
    "    user=config[\"userid\"]\n",
    "    password=config[\"password\"]\n",
    "    \n",
    "except FileNotFoundError:\n",
    "    print(\"No password file found, using anonymous user.\")\n",
    "    user=\"anonymous\"\n",
    "    password=None\n",
    "\n",
    "\n",
    "print(user)"
   ]
  },
  {
   "cell_type": "markdown",
   "metadata": {},
   "source": [
    "\n",
    "\n",
    "Note that we specify only the error we expect to happen and want to handle. Sometimes you see code that catches everything:\n",
    "\n",
    "\n"
   ]
  },
  {
   "cell_type": "code",
   "execution_count": 15,
   "metadata": {
    "collapsed": false
   },
   "outputs": [
    {
     "name": "stdout",
     "output_type": "stream",
     "text": [
      "anonymous\n"
     ]
    }
   ],
   "source": [
    "try:\n",
    "    config=yaml.lod(open(\"datasource.yaml\"))\n",
    "    user=config[\"userid\"]\n",
    "    password=config[\"password\"]\n",
    "except: \n",
    "    user=\"anonymous\"\n",
    "    password=None\n",
    "\n",
    "print(user)"
   ]
  },
  {
   "cell_type": "markdown",
   "metadata": {},
   "source": [
    "There was a mistyped function name there ('`lod`'), but we did not notice the error, as the generic except caught it. \n",
    "Therefore, we should catch only the error we want."
   ]
  },
  {
   "cell_type": "code",
   "execution_count": 18,
   "metadata": {
    "collapsed": true
   },
   "outputs": [],
   "source": [
    "with open('datasource2.yaml','w') as outfile:\n",
    "    outfile.write('userid: jamespjh\\n')\n",
    "    outfile.write('password: secret\\n')\n",
    "\n",
    "with open('datasource3.yaml','w') as outfile:\n",
    "    outfile.write('user: jamespjh\\n')\n",
    "    outfile.write('password: secret\\n')"
   ]
  },
  {
   "cell_type": "code",
   "execution_count": 22,
   "metadata": {
    "collapsed": false
   },
   "outputs": [],
   "source": [
    "def read_credentials(source):\n",
    "    try:\n",
    "       datasource=open(source)\n",
    "       config=yaml.load(datasource)\n",
    "       user=config[\"userid\"]\n",
    "       password=config[\"password\"]\n",
    "       datasource.close()\n",
    "    except FileNotFoundError:\n",
    "       print(\"Password file missing\")\n",
    "       user=\"anonymous\"\n",
    "       password=None\n",
    "    except KeyError:\n",
    "        print(\"Expected keys not found in file\")\n",
    "        user = \"anonymous\"\n",
    "        password=None\n",
    "    return user, password"
   ]
  },
  {
   "cell_type": "code",
   "execution_count": 23,
   "metadata": {
    "collapsed": false
   },
   "outputs": [
    {
     "name": "stdout",
     "output_type": "stream",
     "text": [
      "('jamespjh', 'secret')\n"
     ]
    }
   ],
   "source": [
    "print(read_credentials('datasource2.yaml'))"
   ]
  },
  {
   "cell_type": "code",
   "execution_count": 24,
   "metadata": {
    "collapsed": false
   },
   "outputs": [
    {
     "name": "stdout",
     "output_type": "stream",
     "text": [
      "Password file missing\n",
      "('anonymous', None)\n"
     ]
    }
   ],
   "source": [
    "print(read_credentials('datasource.yaml'))"
   ]
  },
  {
   "cell_type": "code",
   "execution_count": 25,
   "metadata": {
    "collapsed": false
   },
   "outputs": [
    {
     "name": "stdout",
     "output_type": "stream",
     "text": [
      "Expected keys not found in file\n",
      "('anonymous', None)\n"
     ]
    }
   ],
   "source": [
    "print(read_credentials('datasource3.yaml'))"
   ]
  },
  {
   "cell_type": "markdown",
   "metadata": {},
   "source": [
    "\n",
    "\n",
    "\n",
    "This last code has a flaw: the file was successfully opened, the missing key was noticed, but not explicitly closed. It's normally OK, as python will close the file as soon as it notices there are no longer any references to datasource in memory, after the function exits. But this is not good practice, you should keep a file handle for as short a time as possible.\n",
    "\n",
    "\n"
   ]
  },
  {
   "cell_type": "code",
   "execution_count": 30,
   "metadata": {
    "collapsed": false
   },
   "outputs": [],
   "source": [
    "def read_credentials(source):\n",
    "    try:\n",
    "       datasource=open(source)\n",
    "       config=yaml.load(datasource)\n",
    "       user=config[\"userid\"]\n",
    "       password=config[\"password\"]\n",
    "    except IOError:\n",
    "       user=\"anonymous\"\n",
    "       password=None\n",
    "    finally:\n",
    "        datasource.close()\n",
    "        \n",
    "    return user, password"
   ]
  },
  {
   "cell_type": "markdown",
   "metadata": {},
   "source": [
    "\n",
    "\n",
    "\n",
    "The `finally` clause is executed whether or not an exception occurs.\n",
    "\n",
    "The last optional clause of a `try` statement, an `else` clause is called only if an exception is NOT raised. It can be a better place than the `try` clause to put code other than that which you expect to raise the error, and which you do not want to be executed if the error is raised. It is executed in the same circumstances as code put in the end of the `try` block, the only difference is that errors raised during the `else` clause are not caught. Don't worry if this seems useless to you; most languages implementations of try/except don't support such a clause.\n",
    "\n",
    "\n"
   ]
  },
  {
   "cell_type": "code",
   "execution_count": 27,
   "metadata": {
    "collapsed": false
   },
   "outputs": [],
   "source": [
    "def read_credentials(source):\n",
    "    try:\n",
    "       datasource=open(source)\n",
    "    except IOError:\n",
    "       user=\"anonymous\"\n",
    "       password=None\n",
    "    else:\n",
    "       config=yaml.load(datasource)\n",
    "       user=config[\"userid\"]\n",
    "       password=config[\"password\"]\n",
    "    finally:\n",
    "        datasource.close()\n",
    "    return user, password"
   ]
  },
  {
   "cell_type": "markdown",
   "metadata": {},
   "source": [
    "\n",
    "\n",
    "Exceptions do not have to be caught close to the part of the program calling\n",
    "them. They can be caught anywhere \"above\" the calling point in\n",
    "the call stack: control can jump arbitrarily far in the program: up to the `except` clause of the \"highest\" containing try statement.\n",
    "\n",
    "\n"
   ]
  },
  {
   "cell_type": "code",
   "execution_count": 28,
   "metadata": {
    "collapsed": true
   },
   "outputs": [],
   "source": [
    "def f4(x):\n",
    "    if x==0:\n",
    "        return\n",
    "    if x==1:\n",
    "        raise ArithmeticError()\n",
    "    if x==2:\n",
    "        raise SyntaxError()\n",
    "    if x==3:\n",
    "        raise TypeError()"
   ]
  },
  {
   "cell_type": "code",
   "execution_count": 29,
   "metadata": {
    "collapsed": false
   },
   "outputs": [],
   "source": [
    "def f3(x):\n",
    "    try:\n",
    "        print(\"F3Before\")\n",
    "        f4(x)\n",
    "        print(\"F3After\")\n",
    "    except ArithmeticError:\n",
    "        print(\"F3Except\")"
   ]
  },
  {
   "cell_type": "code",
   "execution_count": 30,
   "metadata": {
    "collapsed": true
   },
   "outputs": [],
   "source": [
    "def f2(x):\n",
    "    try:\n",
    "        print(\"F2Before\")\n",
    "        f3(x)\n",
    "        print(\"F2After\")\n",
    "    except SyntaxError:\n",
    "        print(\"F2Except\")"
   ]
  },
  {
   "cell_type": "code",
   "execution_count": 31,
   "metadata": {
    "collapsed": true
   },
   "outputs": [],
   "source": [
    "def f1(x):\n",
    "    try:\n",
    "        print(\"F1Before\")\n",
    "        f2(x)\n",
    "        print(\"F1After\")\n",
    "    except TypeError:\n",
    "        print(\"F1Except\")"
   ]
  },
  {
   "cell_type": "code",
   "execution_count": 37,
   "metadata": {
    "collapsed": false
   },
   "outputs": [
    {
     "name": "stdout",
     "output_type": "stream",
     "text": [
      "F1Before\n",
      "F2Before\n",
      "F3Before\n",
      "F3After\n",
      "F2After\n",
      "F1After\n"
     ]
    }
   ],
   "source": [
    "f1(0)"
   ]
  },
  {
   "cell_type": "code",
   "execution_count": 38,
   "metadata": {
    "collapsed": false
   },
   "outputs": [
    {
     "name": "stdout",
     "output_type": "stream",
     "text": [
      "F1Before\n",
      "F2Before\n",
      "F3Before\n",
      "F3Except\n",
      "F2After\n",
      "F1After\n"
     ]
    }
   ],
   "source": [
    "f1(1)"
   ]
  },
  {
   "cell_type": "code",
   "execution_count": 39,
   "metadata": {
    "collapsed": false
   },
   "outputs": [
    {
     "name": "stdout",
     "output_type": "stream",
     "text": [
      "F1Before\n",
      "F2Before\n",
      "F3Before\n",
      "F2Except\n",
      "F1After\n"
     ]
    }
   ],
   "source": [
    "f1(2)"
   ]
  },
  {
   "cell_type": "code",
   "execution_count": 40,
   "metadata": {
    "collapsed": false
   },
   "outputs": [
    {
     "name": "stdout",
     "output_type": "stream",
     "text": [
      "F1Before\n",
      "F2Before\n",
      "F3Before\n",
      "F1Except\n"
     ]
    }
   ],
   "source": [
    "f1(3)"
   ]
  },
  {
   "cell_type": "markdown",
   "metadata": {},
   "source": [
    "### Design with Exceptions"
   ]
  },
  {
   "cell_type": "markdown",
   "metadata": {},
   "source": [
    "\n",
    "Now we know how exceptions work, we need to think about the design implications... How best to use them.\n",
    "\n",
    "Traditional software design theory will tell you that they should only be used\n",
    "to describe and recover from **exceptional** conditions: things going wrong.\n",
    "Normal program flow shouldn't use them.\n",
    "\n",
    "Python's designers take a different view: use of exceptions in normal flow is\n",
    "considered OK. For example, all iterators raise a `StopIteration` exception to\n",
    "indicate the iteration is complete.\n",
    "\n",
    "A commonly recommended python design pattern is to use exceptions to determine\n",
    "whether an object implments a protocol (concept/interface), rather than testing\n",
    "on type.\n",
    "\n",
    "For example, we might want a function which can be supplied *either* a data\n",
    "series *or* a path to a location on disk where data can be found. We can\n",
    "examine the type of the supplied content:\n",
    "\n",
    "\n"
   ]
  },
  {
   "cell_type": "code",
   "execution_count": 42,
   "metadata": {
    "collapsed": false
   },
   "outputs": [],
   "source": [
    "import yaml\n",
    "def analysis(source):\n",
    "    if type(source)==dict:\n",
    "        name=source['modelname']\n",
    "    else:\n",
    "        content=open(source)\n",
    "        source=yaml.load(content)\n",
    "        name=source['modelname']\n",
    "    print(name)"
   ]
  },
  {
   "cell_type": "code",
   "execution_count": 43,
   "metadata": {
    "collapsed": false
   },
   "outputs": [
    {
     "name": "stdout",
     "output_type": "stream",
     "text": [
      "Super\n"
     ]
    }
   ],
   "source": [
    "analysis({'modelname':'Super'})"
   ]
  },
  {
   "cell_type": "code",
   "execution_count": 44,
   "metadata": {
    "collapsed": true
   },
   "outputs": [],
   "source": [
    "with open('example.yaml','w') as outfile:\n",
    "    outfile.write('modelname: brilliant\\n')"
   ]
  },
  {
   "cell_type": "code",
   "execution_count": 45,
   "metadata": {
    "collapsed": false
   },
   "outputs": [
    {
     "name": "stdout",
     "output_type": "stream",
     "text": [
      "brilliant\n"
     ]
    }
   ],
   "source": [
    "analysis('example.yaml')"
   ]
  },
  {
   "cell_type": "markdown",
   "metadata": {},
   "source": [
    "\n",
    "\n",
    "\n",
    "However, we can also use the try-it-and-handle-exceptions approach to this. \n",
    "\n",
    "\n"
   ]
  },
  {
   "cell_type": "code",
   "execution_count": 32,
   "metadata": {
    "collapsed": false
   },
   "outputs": [
    {
     "name": "stdout",
     "output_type": "stream",
     "text": [
      "brilliant\n"
     ]
    }
   ],
   "source": [
    "def analysis(source):\n",
    "    try:\n",
    "      name=source['modelname']\n",
    "    except TypeError:\n",
    "      content=open(source)\n",
    "      source=yaml.load(content)\n",
    "      name=source['modelname']\n",
    "    print(name)\n",
    "\n",
    "analysis('example.yaml')"
   ]
  },
  {
   "cell_type": "markdown",
   "metadata": {},
   "source": [
    "This approach is more extensible, and **behaves properly if we give it some\n",
    "other data-source which responds like a dictionary or string.**"
   ]
  },
  {
   "cell_type": "code",
   "execution_count": 49,
   "metadata": {
    "collapsed": false
   },
   "outputs": [
    {
     "name": "stdout",
     "output_type": "stream",
     "text": [
      "Amazing\n"
     ]
    }
   ],
   "source": [
    "def analysis(source):\n",
    "    try:\n",
    "      name=source['modelname']\n",
    "    except TypeError:\n",
    "      # Source was not a dictionary-like object\n",
    "      # Maybe it is a file path\n",
    "      try:\n",
    "        content=open(source)\n",
    "        source=yaml.load(content)\n",
    "        name=source['modelname']\n",
    "      except IOError:\n",
    "        # Maybe it was already raw YAML content\n",
    "        source=yaml.load(source)\n",
    "        name=source['modelname']\n",
    "    print(name)\n",
    "\n",
    "analysis(\"modelname: Amazing\")"
   ]
  },
  {
   "cell_type": "markdown",
   "metadata": {},
   "source": [
    "\n",
    "\n",
    "\n",
    "Sometimes we want to catch an error, partially handle it, perhaps add some\n",
    "extra data to the exception, and then re-raise to be caught again further up\n",
    "the call stack. \n",
    "\n",
    "The keyword \"`raise`\" with no argument in an `except:` clause will cause the\n",
    "caught error to be re-thrown. Doing this is the only circumstance where it is\n",
    "safe to do except: without catching a specfic type of error.\n",
    "\n",
    "\n"
   ]
  },
  {
   "cell_type": "code",
   "execution_count": 50,
   "metadata": {
    "collapsed": false
   },
   "outputs": [],
   "source": [
    "try:\n",
    "    # Something\n",
    "    pass\n",
    "except:\n",
    "    # Do this code here if anything goes wrong\n",
    "    raise"
   ]
  },
  {
   "cell_type": "markdown",
   "metadata": {},
   "source": [
    "\n",
    "\n",
    "It can be useful to catch and re-throw an error as you go up the chain, doing any clean-up needed for each layer of a program.\n",
    "\n",
    "The error will finally be caught and not re-thrown only at a higher program\n",
    "layer that knows how to recover. This is known as the \"throw low catch high\"\n",
    "principle.\n",
    "\n",
    "\n"
   ]
  }
 ],
 "metadata": {
  "jekyll": {
   "display_name": "Exceptions"
  },
  "kernelspec": {
   "display_name": "Python 3",
   "language": "python",
   "name": "python3"
  },
  "language_info": {
   "codemirror_mode": {
    "name": "ipython",
    "version": 3
   },
   "file_extension": ".py",
   "mimetype": "text/x-python",
   "name": "python",
   "nbconvert_exporter": "python",
   "pygments_lexer": "ipython3",
   "version": "3.5.2"
  }
 },
 "nbformat": 4,
 "nbformat_minor": 0
}
