{
 "cells": [
  {
   "cell_type": "markdown",
   "metadata": {},
   "source": [
    "## Argparse"
   ]
  },
  {
   "cell_type": "markdown",
   "metadata": {},
   "source": [
    "\n",
    "This is the standard library for building programs with a command-line interface.\n",
    "\n",
    "\n",
    "\n",
    "\n",
    "\n"
   ]
  },
  {
   "cell_type": "code",
   "execution_count": 9,
   "metadata": {
    "collapsed": false
   },
   "outputs": [
    {
     "name": "stdout",
     "output_type": "stream",
     "text": [
      "Overwriting greeter.py\n"
     ]
    }
   ],
   "source": [
    "%%writefile greeter.py\n",
    "#!/usr/bin/env python\n",
    "from argparse import ArgumentParser\n",
    "if __name__ == \"__main__\":\n",
    "    parser = ArgumentParser(description = \"Generate appropriate greetings\")\n",
    "    parser.add_argument('--title', '-t')\n",
    "    parser.add_argument('--polite','-p', action=\"store_true\")\n",
    "    parser.add_argument('personal')\n",
    "    parser.add_argument('family')\n",
    "    arguments= parser.parse_args()\n",
    "    \n",
    "    greeting= \"How do you do, \" if arguments.polite else \"Hey, \"\n",
    "    if arguments.title:\n",
    "        greeting+=arguments.title+\" \"\n",
    "    greeting+= arguments.personal + \" \" + arguments.family +\".\"\n",
    "    print(greeting)\n"
   ]
  },
  {
   "cell_type": "markdown",
   "metadata": {},
   "source": [
    "\n",
    "\n",
    "\n",
    "\n"
   ]
  },
  {
   "cell_type": "code",
   "execution_count": 10,
   "metadata": {
    "collapsed": true
   },
   "outputs": [],
   "source": [
    "%%bash\n",
    "#!/usr/bin/env bash\n",
    "chmod u+x greeter.py"
   ]
  },
  {
   "cell_type": "code",
   "execution_count": 11,
   "metadata": {
    "collapsed": false
   },
   "outputs": [
    {
     "name": "stdout",
     "output_type": "stream",
     "text": [
      "usage: greeter.py [-h] [--title TITLE] [--polite] personal family\n",
      "\n",
      "Generate appropriate greetings\n",
      "\n",
      "positional arguments:\n",
      "  personal\n",
      "  family\n",
      "\n",
      "optional arguments:\n",
      "  -h, --help            show this help message and exit\n",
      "  --title TITLE, -t TITLE\n",
      "  --polite, -p\n"
     ]
    }
   ],
   "source": [
    "%%bash\n",
    "./greeter.py --help"
   ]
  },
  {
   "cell_type": "code",
   "execution_count": 4,
   "metadata": {
    "collapsed": false
   },
   "outputs": [
    {
     "name": "stdout",
     "output_type": "stream",
     "text": [
      "Hey, James Hetherington.\n"
     ]
    }
   ],
   "source": [
    "%%bash\n",
    "./greeter.py James Hetherington"
   ]
  },
  {
   "cell_type": "code",
   "execution_count": 12,
   "metadata": {
    "collapsed": false
   },
   "outputs": [
    {
     "name": "stdout",
     "output_type": "stream",
     "text": [
      "How do you do, James Hetherington.\n"
     ]
    }
   ],
   "source": [
    "%%bash\n",
    "./greeter.py --polite James Hetherington"
   ]
  },
  {
   "cell_type": "code",
   "execution_count": 13,
   "metadata": {
    "collapsed": false
   },
   "outputs": [
    {
     "name": "stdout",
     "output_type": "stream",
     "text": [
      "Hey, Dr James Hetherington.\n"
     ]
    }
   ],
   "source": [
    "%%bash\n",
    "./greeter.py James Hetherington --title Dr"
   ]
  },
  {
   "cell_type": "code",
   "execution_count": null,
   "metadata": {
    "collapsed": true
   },
   "outputs": [],
   "source": []
  }
 ],
 "metadata": {
  "jekyll": {
   "display_name": "Argparse"
  },
  "kernelspec": {
   "display_name": "Python 3",
   "language": "python",
   "name": "python3"
  },
  "language_info": {
   "codemirror_mode": {
    "name": "ipython",
    "version": 3
   },
   "file_extension": ".py",
   "mimetype": "text/x-python",
   "name": "python",
   "nbconvert_exporter": "python",
   "pygments_lexer": "ipython3",
   "version": "3.5.2"
  },
  "widgets": {
   "state": {},
   "version": "1.1.2"
  }
 },
 "nbformat": 4,
 "nbformat_minor": 1
}
