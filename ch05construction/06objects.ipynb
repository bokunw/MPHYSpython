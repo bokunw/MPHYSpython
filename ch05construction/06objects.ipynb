{
 "cells": [
  {
   "cell_type": "markdown",
   "metadata": {},
   "source": [
    "# Design"
   ]
  },
  {
   "cell_type": "markdown",
   "metadata": {},
   "source": [
    "\n",
    "## Object-Oriented Design\n",
    "\n",
    "In this session, we will finally discuss the thing most people think of when they refer to \"Software Engineering\": the deliberate *design* of software.\n",
    "We will discuss processes and methodologies for planned development of large-scale software projects: *Software Architecture*.\n",
    "\n",
    "The software engineering community has, in large part, focused on an object-oriented approach to the design and development of large scale software systems.\n",
    "The basic concepts of object orientation are necessary to follow much of the software engineering conversation.\n",
    "\n",
    "\n",
    "### Design processes\n",
    "\n",
    "\n",
    "In addition to object-oriented architecture, software engineers have focused on the development of processes for robust, reliable software development. \n",
    "These codified ways of working hope to enable organisations to repeatably and reliably complete complex software projects in a way that minimises both development \n",
    "and maintainance costs, and meets user requirements.\n",
    "\n",
    "\n",
    "### Design and research\n",
    "\n",
    "\n",
    "Software engineering theory has largely been developed in the context of commercial software companies.\n",
    "\n",
    "The extent to which the practices and processes developed for commercial software are applicable in a research context is itself an active area of research.\n",
    "\n",
    "\n"
   ]
  },
  {
   "cell_type": "markdown",
   "metadata": {},
   "source": [
    "## Recap of Object-Orientation"
   ]
  },
  {
   "cell_type": "markdown",
   "metadata": {},
   "source": [
    "### Classes: User defined types"
   ]
  },
  {
   "cell_type": "code",
   "execution_count": 1,
   "metadata": {
    "collapsed": false
   },
   "outputs": [],
   "source": [
    "class Person:\n",
    "    def __init__(self,name,age):\n",
    "        self.name=name\n",
    "        self.age=age\n",
    "    def grow_up(self):\n",
    "        self.age+=1\n",
    "\n",
    "james=Person(\"James\",37)\n",
    "james.home=\"London\""
   ]
  },
  {
   "cell_type": "markdown",
   "metadata": {},
   "source": [
    "### Declaring a class "
   ]
  },
  {
   "cell_type": "markdown",
   "metadata": {},
   "source": [
    "\n",
    "Class: A user-defined type\n",
    "\n",
    "\n"
   ]
  },
  {
   "cell_type": "code",
   "execution_count": 2,
   "metadata": {
    "collapsed": false
   },
   "outputs": [],
   "source": [
    "class MyClass:\n",
    "    pass"
   ]
  },
  {
   "cell_type": "markdown",
   "metadata": {},
   "source": [
    "### Object instances"
   ]
  },
  {
   "cell_type": "markdown",
   "metadata": {},
   "source": [
    "\n",
    "Instance: A particular object *instantiated* from a class.\n",
    "\n",
    "\n"
   ]
  },
  {
   "cell_type": "code",
   "execution_count": 3,
   "metadata": {
    "collapsed": false
   },
   "outputs": [],
   "source": [
    "my_object = MyClass()"
   ]
  },
  {
   "cell_type": "markdown",
   "metadata": {},
   "source": [
    "### Method"
   ]
  },
  {
   "cell_type": "markdown",
   "metadata": {},
   "source": [
    "\n",
    "Method: A function which is \"built in\" to a class\n",
    "\n",
    "\n"
   ]
  },
  {
   "cell_type": "code",
   "execution_count": 4,
   "metadata": {
    "collapsed": false
   },
   "outputs": [],
   "source": [
    "from context import *"
   ]
  },
  {
   "cell_type": "code",
   "execution_count": 5,
   "metadata": {
    "collapsed": false
   },
   "outputs": [],
   "source": [
    "class MyClass:\n",
    "    def someMethod(self, argument):\n",
    "        pass\n",
    "\n",
    "my_object=MyClass()\n",
    "my_object.someMethod(value)"
   ]
  },
  {
   "cell_type": "markdown",
   "metadata": {},
   "source": [
    "### Constructor"
   ]
  },
  {
   "cell_type": "markdown",
   "metadata": {},
   "source": [
    "\n",
    "Constructor: A special method called when instantiating a new object\n",
    "\n",
    "\n"
   ]
  },
  {
   "cell_type": "code",
   "execution_count": 6,
   "metadata": {
    "collapsed": false
   },
   "outputs": [],
   "source": [
    "class MyClass:\n",
    "    def __init__(self, argument):\n",
    "        pass\n",
    "\n",
    "my_object = MyClass(value)"
   ]
  },
  {
   "cell_type": "markdown",
   "metadata": {},
   "source": [
    "### Member Variable"
   ]
  },
  {
   "cell_type": "markdown",
   "metadata": {},
   "source": [
    "\n",
    "Member variable: a value stored inside an instance of a class.\n",
    "\n",
    "\n"
   ]
  },
  {
   "cell_type": "code",
   "execution_count": 7,
   "metadata": {
    "collapsed": false
   },
   "outputs": [],
   "source": [
    "class MyClass:\n",
    "    def __init__(self):\n",
    "        self.member = \"Value\"\n",
    "\n",
    "my_object = MyClass()\n",
    "assert(my_object.member == \"Value\")"
   ]
  },
  {
   "cell_type": "markdown",
   "metadata": {},
   "source": [
    "## Object refactorings"
   ]
  },
  {
   "cell_type": "markdown",
   "metadata": {},
   "source": [
    "### Replace add-hoc structure with user defined classes"
   ]
  },
  {
   "cell_type": "markdown",
   "metadata": {},
   "source": [
    "\n",
    "Smell: A data structure made of nested arrays and dictionaries becomes unwieldy\n",
    "\n",
    "Before:\n",
    "\n",
    "\n"
   ]
  },
  {
   "cell_type": "code",
   "execution_count": 8,
   "metadata": {
    "collapsed": false
   },
   "outputs": [],
   "source": [
    "from random import random\n",
    "birds = [{\"position\": random(),\n",
    "          \"velocity\": random(),\n",
    "          \"type\": kind} for kind in bird_types]\n",
    "\n",
    "average_position = average([bird[\"position\"] for bird in birds])"
   ]
  },
  {
   "cell_type": "markdown",
   "metadata": {},
   "source": [
    "\n",
    "\n",
    "\n",
    "After:\n",
    "\n",
    "\n"
   ]
  },
  {
   "cell_type": "code",
   "execution_count": 9,
   "metadata": {
    "collapsed": false
   },
   "outputs": [],
   "source": [
    "class Bird(object):\n",
    "    def __init__(self,type):\n",
    "        from random import random\n",
    "        self.type = type\n",
    "        self.position = random()\n",
    "        self.velocity = random()\n",
    "\n",
    "birds = [Bird(type) for type in bird_types]\n",
    "average_position = average([bird.position for bird in birds])"
   ]
  },
  {
   "cell_type": "markdown",
   "metadata": {},
   "source": [
    "### Replace function with a method"
   ]
  },
  {
   "cell_type": "markdown",
   "metadata": {},
   "source": [
    "\n",
    "Smell: A function is always called with the same kind of thing\n",
    "\n",
    "Before:\n",
    "\n",
    "\n"
   ]
  },
  {
   "cell_type": "code",
   "execution_count": 10,
   "metadata": {
    "collapsed": false
   },
   "outputs": [],
   "source": [
    "def can_see(source,target):\n",
    "    return (source.facing-target.facing)<source.viewport\n",
    "\n",
    "if can_see(hawk,starling):\n",
    "    hawk.hunt()"
   ]
  },
  {
   "cell_type": "markdown",
   "metadata": {},
   "source": [
    "\n",
    "\n",
    "\n",
    "After:\n",
    "\n",
    "\n"
   ]
  },
  {
   "cell_type": "code",
   "execution_count": 11,
   "metadata": {
    "collapsed": false
   },
   "outputs": [],
   "source": [
    "class Bird(object):\n",
    "    def can_see(self,target):\n",
    "        return (self.facing-target.facing)<self.viewport\n",
    "\n",
    "if hawk.can_see(starling):\n",
    "    hawk.hunt()"
   ]
  },
  {
   "cell_type": "markdown",
   "metadata": {},
   "source": [
    "### Replace method arguments with class members"
   ]
  },
  {
   "cell_type": "markdown",
   "metadata": {},
   "source": [
    "\n",
    "Smell: A variable is nearly always used in arguments to \n",
    "a class.\n",
    "\n",
    "\n"
   ]
  },
  {
   "cell_type": "code",
   "execution_count": 12,
   "metadata": {
    "collapsed": false
   },
   "outputs": [],
   "source": [
    "class Person(object):\n",
    "    def __init__(self, genes):\n",
    "        self.genes=genes\n",
    "    def reproduce_probability(self,age): pass\n",
    "    def death_probability(self,age): pass\n",
    "    def emigrate_probability(self,age): pass"
   ]
  },
  {
   "cell_type": "markdown",
   "metadata": {},
   "source": [
    "\n",
    "\n",
    "\n",
    "After:\n",
    "\n",
    "\n"
   ]
  },
  {
   "cell_type": "code",
   "execution_count": 13,
   "metadata": {
    "collapsed": false
   },
   "outputs": [],
   "source": [
    "class Person(object):\n",
    "    def __init__(self, genes, age):\n",
    "        self.age=age\n",
    "        self.genes=genes\n",
    "    def reproduce_probability(self): pass\n",
    "    def death_probability(self): pass\n",
    "    def emigrate_probability(self): pass"
   ]
  },
  {
   "cell_type": "markdown",
   "metadata": {},
   "source": [
    "### Replace global variable with class and member"
   ]
  },
  {
   "cell_type": "markdown",
   "metadata": {},
   "source": [
    "\n",
    "Smell: A global variable is referenced by a few functions\n",
    "\n",
    "\n"
   ]
  },
  {
   "cell_type": "code",
   "execution_count": 14,
   "metadata": {
    "collapsed": false
   },
   "outputs": [
    {
     "name": "stdout",
     "output_type": "stream",
     "text": [
      "No birthday for you today.\n"
     ]
    }
   ],
   "source": [
    "name=\"James\"\n",
    "birthday=[19,10,76]\n",
    "today=[30,11]\n",
    "\n",
    "if today==birthday[0:2]:\n",
    "    print(\"Happy Birthday, \", name)\n",
    "else:\n",
    "    print(\"No birthday for you today.\")"
   ]
  },
  {
   "cell_type": "markdown",
   "metadata": {},
   "source": [
    "\n",
    "\n",
    "\n",
    "\n"
   ]
  },
  {
   "cell_type": "code",
   "execution_count": 15,
   "metadata": {
    "collapsed": false
   },
   "outputs": [
    {
     "name": "stdout",
     "output_type": "stream",
     "text": [
      "No birthday for you.\n"
     ]
    }
   ],
   "source": [
    "class Person(object):\n",
    "    def __init__(self, birthday, name):\n",
    "        self.birth_day=birthday[0]\n",
    "        self.birth_month=birthday[1]\n",
    "        self.birth_year=birthday[2]\n",
    "        self.name=name\n",
    "    def check_birthday(self, today_day, today_month):\n",
    "        if not self.birth_day == today_day:\n",
    "            return False\n",
    "        if not self.birth_month == today_month:\n",
    "            return False\n",
    "        return True\n",
    "    def greet_appropriately(self, today):\n",
    "        if self.check_birthday(*today):\n",
    "            print(\"Happy Birthday\", self.name)\n",
    "        else:\n",
    "            print(\"No birthday for you.\")\n",
    "\n",
    "james=Person([19,10,76],\"James\")\n",
    "james.greet_appropriately([29,10])"
   ]
  },
  {
   "cell_type": "markdown",
   "metadata": {},
   "source": [
    "### Object Oriented Refactoring Summary"
   ]
  },
  {
   "cell_type": "markdown",
   "metadata": {},
   "source": [
    "\n",
    "* Replace ad-hoc structure with a class\n",
    "* Replace function with a method\n",
    "* Replace method argument with class member\n",
    "* Replace global variable with class data\n",
    "\n",
    "\n"
   ]
  }
 ],
 "metadata": {
  "jekyll": {
   "display_name": "Object Refactorings"
  },
  "kernelspec": {
   "display_name": "Python 3",
   "language": "python",
   "name": "python3"
  },
  "language_info": {
   "codemirror_mode": {
    "name": "ipython",
    "version": 3
   },
   "file_extension": ".py",
   "mimetype": "text/x-python",
   "name": "python",
   "nbconvert_exporter": "python",
   "pygments_lexer": "ipython3",
   "version": "3.5.2"
  }
 },
 "nbformat": 4,
 "nbformat_minor": 0
}
