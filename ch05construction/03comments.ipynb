{
 "cells": [
  {
   "cell_type": "markdown",
   "metadata": {},
   "source": [
    "## Comments"
   ]
  },
  {
   "cell_type": "markdown",
   "metadata": {},
   "source": [
    "### Why comment?"
   ]
  },
  {
   "cell_type": "markdown",
   "metadata": {},
   "source": [
    "\n",
    "* You're writing code for people, as well as computers.\n",
    "* Comments can help you build code, by representing your design\n",
    "* Comments explain subtleties in the code which are not obvious from the syntax\n",
    "* Comments explain *why* you wrote the code the way you did\n"
   ]
  },
  {
   "cell_type": "markdown",
   "metadata": {},
   "source": [
    "### Bad Comments"
   ]
  },
  {
   "cell_type": "markdown",
   "metadata": {},
   "source": [
    "\n",
    "\"I write good code, you can tell by the number of comments.\"\n",
    "\n",
    "This is wrong.\n"
   ]
  },
  {
   "cell_type": "markdown",
   "metadata": {},
   "source": [
    "### Comments which are obvious"
   ]
  },
  {
   "cell_type": "code",
   "execution_count": 1,
   "metadata": {
    "collapsed": true
   },
   "outputs": [],
   "source": [
    "from context import *"
   ]
  },
  {
   "cell_type": "code",
   "execution_count": 2,
   "metadata": {
    "collapsed": false
   },
   "outputs": [],
   "source": [
    "counter=counter+1 # Increment the counter\n",
    "for element in array: # Loop over elements\n",
    "    pass"
   ]
  },
  {
   "cell_type": "markdown",
   "metadata": {},
   "source": [
    "### Comments which could be replaced by better style"
   ]
  },
  {
   "cell_type": "code",
   "execution_count": 3,
   "metadata": {
    "collapsed": false
   },
   "outputs": [],
   "source": [
    "for i in range(len(agt)): #for each agent\n",
    "  agt[i].theta+=ws[i]     # Increment the angle of each agent\n",
    "                          #by its angular velocity\n",
    "  agt[i].x+=r*sin(agt[i].theta) #Move the agent by the step-size\n",
    "  agt[i].y+=r*cos(agt[i].theta) #r in the direction indicated"
   ]
  },
  {
   "cell_type": "markdown",
   "metadata": {},
   "source": [
    "\n",
    "\n",
    "\n",
    "Is good. But:\n",
    "\n",
    "\n"
   ]
  },
  {
   "cell_type": "code",
   "execution_count": 4,
   "metadata": {
    "collapsed": false
   },
   "outputs": [],
   "source": [
    "for agent in agents:\n",
    "  agent.turn()\n",
    "  agent.move()\n",
    "\n",
    "class Agent(object):\n",
    "   def turn(self):\n",
    "        self.direction+=self.angular_velocity;\n",
    "   def move(self):\n",
    "       self.x+=Agent.step_length*sin(self.direction)\n",
    "       self.y+=Agent.step_length*cos(self.direction)"
   ]
  },
  {
   "cell_type": "markdown",
   "metadata": {},
   "source": [
    "\n",
    "\n",
    "\n",
    "is probably better.\n"
   ]
  },
  {
   "cell_type": "markdown",
   "metadata": {},
   "source": [
    "### Comments vs expressive code "
   ]
  },
  {
   "cell_type": "markdown",
   "metadata": {},
   "source": [
    "\n",
    "> The proper use of comments is to compensate for our failure to express yourself in code. \n",
    "Note that I used the word failure. I meant it. Comments are always failures.\n",
    "\n",
    "-- Robert Martin, [Clean Code](http://www.amazon.co.uk/Clean-Code-Handbook-Software-Craftsmanship/dp/0132350882).\n",
    "\n",
    "I wouldn't disagree, but still, writing \"self-documenting\" code is very hard, so do comment if you're unsure!\n"
   ]
  },
  {
   "cell_type": "markdown",
   "metadata": {},
   "source": [
    "### Comments which belong in an issue tracker"
   ]
  },
  {
   "cell_type": "code",
   "execution_count": 5,
   "metadata": {
    "collapsed": false
   },
   "outputs": [],
   "source": [
    "x.clear() # Code crashes here sometimes\n",
    "class Agent(object):\n",
    "    pass\n",
    "    # TODO: Implement pretty-printer method"
   ]
  },
  {
   "cell_type": "markdown",
   "metadata": {},
   "source": [
    "\n",
    "\n",
    "\n",
    "BUT comments that reference issues in the tracker can be good.\n",
    "\n",
    "E.g.\n",
    "\n",
    "\n"
   ]
  },
  {
   "cell_type": "code",
   "execution_count": 6,
   "metadata": {
    "collapsed": false
   },
   "outputs": [],
   "source": [
    "if x.safe_to_clear(): # Guard added as temporary workaround for #32\n",
    "   x.clear()"
   ]
  },
  {
   "cell_type": "markdown",
   "metadata": {},
   "source": [
    "\n",
    "\n",
    "\n",
    "is OK.\n"
   ]
  },
  {
   "cell_type": "markdown",
   "metadata": {},
   "source": [
    "### Comments which only make sense to the author today"
   ]
  },
  {
   "cell_type": "code",
   "execution_count": 7,
   "metadata": {
    "collapsed": false
   },
   "outputs": [],
   "source": [
    "agent.turn() # Turtle Power!\n",
    "agent.move()\n",
    "agents[:]=[]# Shredder!"
   ]
  },
  {
   "cell_type": "markdown",
   "metadata": {},
   "source": [
    "### Comments which are unpublishable"
   ]
  },
  {
   "cell_type": "code",
   "execution_count": 8,
   "metadata": {
    "collapsed": false
   },
   "outputs": [],
   "source": [
    "# Stupid supervisor made me write this code\n",
    "# So I did it while very very drunk."
   ]
  },
  {
   "cell_type": "markdown",
   "metadata": {},
   "source": [
    "### Good commenting: pedagogical comments"
   ]
  },
  {
   "cell_type": "markdown",
   "metadata": {},
   "source": [
    "\n",
    "Code that *is* good style, but you're not familiar with, or \n",
    "that colleagues might not be familiar with\n",
    "\n",
    "\n"
   ]
  },
  {
   "cell_type": "code",
   "execution_count": 9,
   "metadata": {
    "collapsed": false
   },
   "outputs": [],
   "source": [
    "# This is how you define a decorator in python\n",
    "# See https://wiki.python.org/moin/PythonDecorators\n",
    "def double(decorated_function):\n",
    "   # Here, the result function forms a closure over \n",
    "   # the decorated function\n",
    "   def result_function(input):\n",
    "       return decorated_function(decorated_function(input))\n",
    "   # The returned result is a function\n",
    "   return result_function\n",
    "\n",
    "@double\n",
    "def try_me_twice():\n",
    "    pass"
   ]
  },
  {
   "cell_type": "markdown",
   "metadata": {},
   "source": [
    "### Good commenting: reasons and definitions"
   ]
  },
  {
   "cell_type": "markdown",
   "metadata": {},
   "source": [
    "\n",
    "Comments which explain coding definitions or reasons for programming choices.\n",
    "\n"
   ]
  },
  {
   "cell_type": "code",
   "execution_count": 10,
   "metadata": {
    "collapsed": false
   },
   "outputs": [],
   "source": [
    "def __init__(self):\n",
    "    self.angle=0 # clockwise from +ve y-axis\n",
    "    nonzero_indices = [] # Use sparse model as memory constrained"
   ]
  }
 ],
 "metadata": {
  "jekyll": {
   "display_name": "Comments"
  },
  "kernelspec": {
   "display_name": "Python 3",
   "language": "python",
   "name": "python3"
  },
  "language_info": {
   "codemirror_mode": {
    "name": "ipython",
    "version": 3
   },
   "file_extension": ".py",
   "mimetype": "text/x-python",
   "name": "python",
   "nbconvert_exporter": "python",
   "pygments_lexer": "ipython3",
   "version": "3.5.2"
  }
 },
 "nbformat": 4,
 "nbformat_minor": 0
}
