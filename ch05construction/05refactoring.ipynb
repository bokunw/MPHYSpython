{
 "cells": [
  {
   "cell_type": "markdown",
   "metadata": {},
   "source": [
    "## Refactoring"
   ]
  },
  {
   "cell_type": "markdown",
   "metadata": {},
   "source": [
    "### Refactoring"
   ]
  },
  {
   "cell_type": "markdown",
   "metadata": {},
   "source": [
    "\n",
    "To refactor is to:\n",
    "\n",
    "* Make a change to the design of some software\n",
    "* Which improves the structure or readability\n",
    "* But which leaves the actual behaviour of the program completely unchanged.\n",
    "\n"
   ]
  },
  {
   "cell_type": "markdown",
   "metadata": {},
   "source": [
    "### A word from the Master"
   ]
  },
  {
   "cell_type": "markdown",
   "metadata": {},
   "source": [
    "\n",
    "> Refactoring is a controlled technique for improving the design of an existing code base. \n",
    "Its essence is applying a series of small behavior-preserving transformations, each of which \"too small to be worth doing\". \n",
    "However the cumulative effect of each of these transformations is quite significant. \n",
    "By doing them in small steps you reduce the risk of introducing errors. \n",
    "You also avoid having the system broken while you are carrying out the restructuring - \n",
    "which allows you to gradually refactor a system over an extended period of time.\n",
    "\n",
    "-- Martin Fowler\n"
   ]
  },
  {
   "cell_type": "markdown",
   "metadata": {},
   "source": [
    "### List of known refactorings"
   ]
  },
  {
   "cell_type": "markdown",
   "metadata": {},
   "source": [
    "\n",
    "The next few sections will present some known refactorings\n",
    "\n",
    "We'll show before and after code, present any new coding techniques needed to do the refactoring,\n",
    "and describe *code smells*: how you know you need to refactor.\n"
   ]
  },
  {
   "cell_type": "markdown",
   "metadata": {},
   "source": [
    "### Replace magic numbers with constants"
   ]
  },
  {
   "cell_type": "markdown",
   "metadata": {},
   "source": [
    "\n",
    "Smell: Raw numbers appear in your code\n",
    "\n",
    "Before: \n",
    "\n",
    "\n"
   ]
  },
  {
   "cell_type": "code",
   "execution_count": 2,
   "metadata": {
    "collapsed": true
   },
   "outputs": [],
   "source": [
    "from context import *"
   ]
  },
  {
   "cell_type": "code",
   "execution_count": 3,
   "metadata": {
    "collapsed": false
   },
   "outputs": [],
   "source": [
    "data= [math.sin(x) for x in np.arange(0,3.141,3.141/100)]\n",
    "result= [0]*100\n",
    "for i in range(100):\n",
    "    for j in range(i+1, 100):\n",
    "        result[j] += data[i] * data[i-j] / 100"
   ]
  },
  {
   "cell_type": "markdown",
   "metadata": {},
   "source": [
    "\n",
    "\n",
    "\n",
    "after:\n",
    "\n",
    "\n"
   ]
  },
  {
   "cell_type": "code",
   "execution_count": 4,
   "metadata": {
    "collapsed": false
   },
   "outputs": [],
   "source": [
    "resolution=100\n",
    "pi=3.141\n",
    "data= [math.sin(x) for x in np.arange(0,pi,pi/resolution)]\n",
    "result= [0]*resolution\n",
    "for i in range(resolution):\n",
    "    for j in range(i + 1, resolution):\n",
    "        result[j] += data[i] * data[i-j] / resolution"
   ]
  },
  {
   "cell_type": "markdown",
   "metadata": {},
   "source": [
    "\n",
    "\n"
   ]
  },
  {
   "cell_type": "markdown",
   "metadata": {},
   "source": [
    "### Replace repeated code with a function"
   ]
  },
  {
   "cell_type": "markdown",
   "metadata": {},
   "source": [
    "\n",
    "Smell: Fragments of repeated code appear\n",
    "\n",
    "Before:\n",
    "\n",
    "\n"
   ]
  },
  {
   "cell_type": "code",
   "execution_count": 5,
   "metadata": {
    "collapsed": false
   },
   "outputs": [],
   "source": [
    "if abs(hawk.facing-starling.facing)<hawk.viewport:\n",
    "    hawk.hunting()\n",
    "\n",
    "if abs(starling.facing-hawk.facing)<starling.viewport:\n",
    "    starling.flee()"
   ]
  },
  {
   "cell_type": "markdown",
   "metadata": {},
   "source": [
    "\n",
    "\n",
    "\n",
    "After:\n",
    "\n",
    "\n"
   ]
  },
  {
   "cell_type": "code",
   "execution_count": 6,
   "metadata": {
    "collapsed": false
   },
   "outputs": [],
   "source": [
    "def can_see(source,target):\n",
    "    return (source.facing-target.facing)<source.viewport\n",
    "\n",
    "if can_see(hawk,starling):\n",
    "    hawk.hunting()\n",
    "\n",
    "if can_see(starling,hawk):\n",
    "    starling.flee()"
   ]
  },
  {
   "cell_type": "markdown",
   "metadata": {},
   "source": [
    "\n",
    "\n"
   ]
  },
  {
   "cell_type": "markdown",
   "metadata": {},
   "source": [
    "### Change of variable name"
   ]
  },
  {
   "cell_type": "markdown",
   "metadata": {},
   "source": [
    "\n",
    "Smell: Code needs a comment to explain what it is for\n",
    "\n",
    "Before:\n",
    "\n",
    "\n"
   ]
  },
  {
   "cell_type": "code",
   "execution_count": 7,
   "metadata": {
    "collapsed": false
   },
   "outputs": [],
   "source": [
    "z=find(x,y)\n",
    "if z:\n",
    "    ribe(x)"
   ]
  },
  {
   "cell_type": "markdown",
   "metadata": {},
   "source": [
    "\n",
    "\n",
    "\n",
    "After:\n",
    "\n",
    "\n"
   ]
  },
  {
   "cell_type": "code",
   "execution_count": 8,
   "metadata": {
    "collapsed": false
   },
   "outputs": [],
   "source": [
    "gene = subsequence(chromosome, start_codon)\n",
    "if gene:\n",
    "    transcribe(gene)"
   ]
  },
  {
   "cell_type": "markdown",
   "metadata": {},
   "source": [
    "### Separate a complex expression into a local variable"
   ]
  },
  {
   "cell_type": "markdown",
   "metadata": {},
   "source": [
    "\n",
    "Smell: An expression becomes long\n",
    "\n",
    "\n"
   ]
  },
  {
   "cell_type": "code",
   "execution_count": 9,
   "metadata": {
    "collapsed": false
   },
   "outputs": [],
   "source": [
    "if ((my_name==your_name) and flag1 or flag2): do_something()"
   ]
  },
  {
   "cell_type": "markdown",
   "metadata": {},
   "source": [
    "\n",
    "\n",
    "\n",
    "vs\n",
    "\n",
    "\n"
   ]
  },
  {
   "cell_type": "code",
   "execution_count": 10,
   "metadata": {
    "collapsed": false
   },
   "outputs": [],
   "source": [
    "same_names= (my_name==your_name)\n",
    "flags_OK=flag1 or flag2\n",
    "if same_names and flags_OK: do_something()"
   ]
  },
  {
   "cell_type": "markdown",
   "metadata": {},
   "source": [
    "### Replace loop with iterator"
   ]
  },
  {
   "cell_type": "markdown",
   "metadata": {},
   "source": [
    "\n",
    "Smell: Loop variable is an integer from 1 to something\n",
    "\n",
    "Before:\n",
    "\n",
    "\n"
   ]
  },
  {
   "cell_type": "code",
   "execution_count": 11,
   "metadata": {
    "collapsed": false
   },
   "outputs": [],
   "source": [
    "sum=0\n",
    "for i in range(resolution):\n",
    "    sum+=data[i]"
   ]
  },
  {
   "cell_type": "markdown",
   "metadata": {},
   "source": [
    "\n",
    "\n",
    "\n",
    "After:\n",
    "\n",
    "\n"
   ]
  },
  {
   "cell_type": "code",
   "execution_count": 12,
   "metadata": {
    "collapsed": false
   },
   "outputs": [],
   "source": [
    "sum=0\n",
    "for value in data:\n",
    "    sum+=value"
   ]
  },
  {
   "cell_type": "markdown",
   "metadata": {},
   "source": [
    "### Replace hand-written code with library code"
   ]
  },
  {
   "cell_type": "markdown",
   "metadata": {},
   "source": [
    "\n",
    "Smell: It feels like surely someone else must have done this at some point\n",
    "\n",
    "Before:\n",
    "\n",
    "\n"
   ]
  },
  {
   "cell_type": "code",
   "execution_count": 13,
   "metadata": {
    "collapsed": false
   },
   "outputs": [],
   "source": [
    "xcoords=[start+i*step for i in range(int((end-start)/step))]"
   ]
  },
  {
   "cell_type": "markdown",
   "metadata": {},
   "source": [
    "\n",
    "\n",
    "\n",
    "After:\n",
    "\n",
    "\n"
   ]
  },
  {
   "cell_type": "code",
   "execution_count": 14,
   "metadata": {
    "collapsed": false
   },
   "outputs": [],
   "source": [
    "import numpy as np\n",
    "xcoords=np.arange(start,end,step)"
   ]
  },
  {
   "cell_type": "markdown",
   "metadata": {},
   "source": [
    "\n",
    "\n",
    "\n",
    "See [Numpy](http://docs.scipy.org/doc/numpy/reference/generated/numpy.arange.html),\n",
    "    [Pandas](http://pandas.pydata.org/)\n"
   ]
  },
  {
   "cell_type": "markdown",
   "metadata": {},
   "source": [
    "### Replace set of arrays with array of structures"
   ]
  },
  {
   "cell_type": "markdown",
   "metadata": {},
   "source": [
    "\n",
    "Smell: A function needs to work corresponding indices of several arrays:\n",
    "\n",
    "Before:\n",
    "\n",
    "\n"
   ]
  },
  {
   "cell_type": "code",
   "execution_count": 15,
   "metadata": {
    "collapsed": false
   },
   "outputs": [],
   "source": [
    "def can_see(index,source_angles,target_angles,source_viewports):\n",
    "    return abs(source_angles[i]-target_angles[i])<source_viewports[i]"
   ]
  },
  {
   "cell_type": "markdown",
   "metadata": {},
   "source": [
    "\n",
    "\n",
    "\n",
    "After:\n",
    "\n",
    "\n"
   ]
  },
  {
   "cell_type": "code",
   "execution_count": 16,
   "metadata": {
    "collapsed": false
   },
   "outputs": [],
   "source": [
    "def can_see(source,target):\n",
    "    return (source[\"facing\"]-target[\"facing\"])<source[\"viewport\"]"
   ]
  },
  {
   "cell_type": "markdown",
   "metadata": {},
   "source": [
    "\n",
    "\n",
    "\n",
    "Warning: this refactoring greatly improves readability but can make code slower,\n",
    "depending on memory layout. Be careful.\n"
   ]
  },
  {
   "cell_type": "markdown",
   "metadata": {},
   "source": [
    "### Replace constants with a configuration file"
   ]
  },
  {
   "cell_type": "markdown",
   "metadata": {},
   "source": [
    "\n",
    "Smell: You need to change your code file to explore different research scenarios\n",
    "\n",
    "Before:\n",
    "\n",
    "\n"
   ]
  },
  {
   "cell_type": "code",
   "execution_count": 17,
   "metadata": {
    "collapsed": false
   },
   "outputs": [],
   "source": [
    "flight_speed=2.0 # mph\n",
    "bounds=[0,0,100,100]\n",
    "turning_circle=3.0 # m\n",
    "bird_counts= {\"hawk\": 5, \"starling\": 500}"
   ]
  },
  {
   "cell_type": "markdown",
   "metadata": {},
   "source": [
    "\n",
    "\n",
    "\n",
    "After:\n",
    "\n",
    "\n",
    "\n",
    "\n",
    "\n"
   ]
  },
  {
   "cell_type": "code",
   "execution_count": 18,
   "metadata": {
    "collapsed": false
   },
   "outputs": [
    {
     "name": "stdout",
     "output_type": "stream",
     "text": [
      "Overwriting config.yaml\n"
     ]
    }
   ],
   "source": [
    "%%writefile config.yaml\n",
    "bounds: [0,0,100,100]\n",
    "counts:\n",
    "    hawk: 5\n",
    "    starling: 500\n",
    "speed: 2.0\n",
    "turning_circle: 3.0"
   ]
  },
  {
   "cell_type": "markdown",
   "metadata": {},
   "source": [
    "\n",
    "\n",
    "\n",
    "\n"
   ]
  },
  {
   "cell_type": "code",
   "execution_count": 19,
   "metadata": {
    "collapsed": false
   },
   "outputs": [],
   "source": [
    "config=yaml.load(open(\"config.yaml\"))"
   ]
  },
  {
   "cell_type": "markdown",
   "metadata": {},
   "source": [
    "\n",
    "\n",
    "\n",
    "See [YAML](http://www.yaml.org/) and [PyYaml](http://pyyaml.org/)\n",
    "and [Python OS](http://docs.python.org/2/library/os.html)\n"
   ]
  },
  {
   "cell_type": "markdown",
   "metadata": {},
   "source": [
    "### Replace global variables with function arguments"
   ]
  },
  {
   "cell_type": "markdown",
   "metadata": {},
   "source": [
    "\n",
    "Smell: A global variable is assigned and then used inside a called function:\n",
    "\n",
    "\n"
   ]
  },
  {
   "cell_type": "code",
   "execution_count": 20,
   "metadata": {
    "collapsed": false
   },
   "outputs": [],
   "source": [
    "viewport=pi/4\n",
    "\n",
    "if hawk.can_see(starling):\n",
    "    hawk.hunt(starling)\n",
    "\n",
    "class Hawk(object):\n",
    "    def can_see(self,target):\n",
    "        return (self.facing-target.facing)<viewport"
   ]
  },
  {
   "cell_type": "markdown",
   "metadata": {},
   "source": [
    "\n",
    "\n",
    "\n",
    "Becomes:\n",
    "\n",
    "\n"
   ]
  },
  {
   "cell_type": "code",
   "execution_count": 21,
   "metadata": {
    "collapsed": false
   },
   "outputs": [],
   "source": [
    "viewport=pi/4\n",
    "if hawk.can_see(starling,viewport):\n",
    "    hawk.hunt(starling)\n",
    "\n",
    "class Hawk(object):\n",
    "    def can_see(self,target,viewport):\n",
    "        return (self.facing-target.facing)<viewport"
   ]
  },
  {
   "cell_type": "markdown",
   "metadata": {},
   "source": [
    "### Merge neighbouring loops"
   ]
  },
  {
   "cell_type": "markdown",
   "metadata": {},
   "source": [
    "\n",
    "Smell: Two neighbouring loops have the same for statement\n",
    "\n",
    "\n"
   ]
  },
  {
   "cell_type": "code",
   "execution_count": 22,
   "metadata": {
    "collapsed": false
   },
   "outputs": [],
   "source": [
    "for bird in birds:\n",
    "    bird.build_nest()\n",
    "\n",
    "for bird in birds:\n",
    "    bird.lay_eggs()"
   ]
  },
  {
   "cell_type": "markdown",
   "metadata": {},
   "source": [
    "\n",
    "\n",
    "\n",
    "Becomes:\n",
    "\n",
    "\n"
   ]
  },
  {
   "cell_type": "code",
   "execution_count": 23,
   "metadata": {
    "collapsed": false
   },
   "outputs": [],
   "source": [
    "for bird in birds:\n",
    "    bird.build_nest()\n",
    "    bird.lay_eggs()"
   ]
  },
  {
   "cell_type": "markdown",
   "metadata": {},
   "source": [
    "### Break a large function into smaller units"
   ]
  },
  {
   "cell_type": "markdown",
   "metadata": {},
   "source": [
    "\n",
    "* Smell: A function or subroutine no longer fits on a page in your editor\n",
    "* Smell: A line of code is indented more than three levels\n",
    "* Smell: A piece of code interacts with the surrounding code through just a few variables\n",
    "\n",
    "Before:\n",
    "\n",
    "\n"
   ]
  },
  {
   "cell_type": "code",
   "execution_count": 24,
   "metadata": {
    "collapsed": false
   },
   "outputs": [],
   "source": [
    "def do_calculation():\n",
    "    for predator in predators:\n",
    "        for prey in preys:\n",
    "            if predator.can_see(prey):\n",
    "                predator.hunt(prey)\n",
    "            if predator.can_reach(prey):\n",
    "                predator.eat(prey)"
   ]
  },
  {
   "cell_type": "markdown",
   "metadata": {},
   "source": [
    "\n",
    "\n",
    "\n",
    "After:\n",
    "\n",
    "\n"
   ]
  },
  {
   "cell_type": "code",
   "execution_count": 25,
   "metadata": {
    "collapsed": false
   },
   "outputs": [],
   "source": [
    "def do_calculation():\n",
    "    for predator in predators:\n",
    "        for prey in preys:\n",
    "            predate(predator, prey)\n",
    "\n",
    "def predate(predator,prey):\n",
    "    if predator.can_see(prey):\n",
    "        predator.hunt(prey)\n",
    "    if predator.can_reach(prey):\n",
    "        predator.eat(prey)"
   ]
  },
  {
   "cell_type": "markdown",
   "metadata": {},
   "source": [
    "### Separate code concepts into files or modules"
   ]
  },
  {
   "cell_type": "markdown",
   "metadata": {},
   "source": [
    "\n",
    "Smell: You find it hard to locate a piece of code\n",
    "\n",
    "Smell: You get a lot of version control conflicts\n",
    "\n",
    "Before:\n",
    "\n",
    "\n"
   ]
  },
  {
   "cell_type": "code",
   "execution_count": 31,
   "metadata": {
    "collapsed": false
   },
   "outputs": [],
   "source": [
    "class One(object):\n",
    "    pass\n",
    "\n",
    "class Two(object):\n",
    "    def __init__():\n",
    "        self.child = One()"
   ]
  },
  {
   "cell_type": "markdown",
   "metadata": {},
   "source": [
    "\n",
    "\n",
    "\n",
    "After:\n",
    "\n",
    "\n"
   ]
  },
  {
   "cell_type": "code",
   "execution_count": 32,
   "metadata": {
    "collapsed": false
   },
   "outputs": [
    {
     "name": "stdout",
     "output_type": "stream",
     "text": [
      "Overwriting anotherfile.py\n"
     ]
    }
   ],
   "source": [
    "%%writefile anotherfile.py\n",
    "class One(object):\n",
    "    pass"
   ]
  },
  {
   "cell_type": "code",
   "execution_count": 33,
   "metadata": {
    "collapsed": false
   },
   "outputs": [],
   "source": [
    "from anotherfile import One\n",
    "\n",
    "class Two(object):\n",
    "    def __init__():\n",
    "        self.child = One()"
   ]
  },
  {
   "cell_type": "markdown",
   "metadata": {},
   "source": [
    "### Refactoring is a safe way to improve code"
   ]
  },
  {
   "cell_type": "markdown",
   "metadata": {},
   "source": [
    "\n",
    "You may think you can see how to rewrite a whole codebase to be better\n",
    "\n",
    "However, you may well get lost halfway through the exercise.\n",
    "\n",
    "By making the changes as small, reversible, incremental steps,\n",
    "you can reach your target design more reliably.\n"
   ]
  },
  {
   "cell_type": "markdown",
   "metadata": {},
   "source": [
    "### Tests and Refactoring"
   ]
  },
  {
   "cell_type": "markdown",
   "metadata": {},
   "source": [
    "\n",
    "Badly structured code cannot be unit tested. There are no \"units\".\n",
    "\n",
    "Before refactoring, ensure you have a robust regression test.\n",
    "\n",
    "This will allow you to *Refactor with confidence*\n",
    "\n",
    "As you refactor, if you create any new units (functions, modules, classes),\n",
    "add new tests for them.\n"
   ]
  },
  {
   "cell_type": "markdown",
   "metadata": {},
   "source": [
    "### Refactoring Summary"
   ]
  },
  {
   "cell_type": "markdown",
   "metadata": {},
   "source": [
    "\n",
    "* Replace magic numbers with constants\n",
    "* Replace repeated code with a function\n",
    "* Change of variable/function/class name\n",
    "* Replace loop with iterator\n",
    "* Replace hand-written code with library code\n",
    "* Replace set of arrays with array of structures\n",
    "* Replace constants with a configuration file\n",
    "* Replace global variables with function arguments\n",
    "* Break a large function into smaller units\n",
    "* Separate code concepts into files or modules\n",
    "\n",
    "And many more\n",
    "\n",
    "Read [The Refactoring Book](http://www.amazon.co.uk/Refactoring-Improving-Design-Existing-Technology/dp/0201485672)\n",
    "\n",
    "\n"
   ]
  }
 ],
 "metadata": {
  "jekyll": {
   "display_name": "Refactoring"
  },
  "kernelspec": {
   "display_name": "Python 3",
   "language": "python",
   "name": "python3"
  },
  "language_info": {
   "codemirror_mode": {
    "name": "ipython",
    "version": 3
   },
   "file_extension": ".py",
   "mimetype": "text/x-python",
   "name": "python",
   "nbconvert_exporter": "python",
   "pygments_lexer": "ipython3",
   "version": "3.5.2"
  }
 },
 "nbformat": 4,
 "nbformat_minor": 0
}
