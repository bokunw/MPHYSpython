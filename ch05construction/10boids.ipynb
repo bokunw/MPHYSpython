{
 "cells": [
  {
   "cell_type": "markdown",
   "metadata": {},
   "source": [
    "## Exercise: Refactoring The Bad Boids"
   ]
  },
  {
   "cell_type": "markdown",
   "metadata": {},
   "source": [
    "### Bad_Boids"
   ]
  },
  {
   "cell_type": "markdown",
   "metadata": {},
   "source": [
    "\n",
    "I have written some _very bad_ code implementing our Boids flocking example.\n",
    "\n",
    "Here's the [Github link](https://github.com/jamespjh/bad-boids).\n",
    "\n",
    "Please fork it on GitHub, and clone your fork.\n"
   ]
  },
  {
   "cell_type": "markdown",
   "metadata": {},
   "source": [
    "``` bash\n",
    "git clone     git@github.com:yourname/bad-boids.git \n",
    "# OR git clone https://github.com/yourname/bad-boids.git\n",
    "```"
   ]
  },
  {
   "cell_type": "markdown",
   "metadata": {},
   "source": [
    "For the Exercise, you should start from the GitHub repository, but here's my terrible code:"
   ]
  },
  {
   "cell_type": "code",
   "execution_count": 2,
   "metadata": {
    "collapsed": true
   },
   "outputs": [],
   "source": [
    "\"\"\"\n",
    "A deliberately bad implementation of \n",
    "[Boids](http://dl.acm.org/citation.cfm?doid=37401.37406)\n",
    "for use as an exercise on refactoring.\n",
    "\"\"\"\n",
    "\n",
    "from matplotlib import pyplot as plt\n",
    "from matplotlib import animation\n",
    "\n",
    "import random\n",
    "\n",
    "# Deliberately terrible code for teaching purposes\n",
    "\n",
    "boids_x=[random.uniform(-450,50.0) for x in range(50)]\n",
    "boids_y=[random.uniform(300.0,600.0) for x in range(50)]\n",
    "boid_x_velocities=[random.uniform(0,10.0) for x in range(50)]\n",
    "boid_y_velocities=[random.uniform(-20.0,20.0) for x in range(50)]\n",
    "boids=(boids_x,boids_y,boid_x_velocities,boid_y_velocities)\n",
    "\n",
    "def update_boids(boids):\n",
    "    xs,ys,xvs,yvs=boids\n",
    "    # Fly towards the middle\n",
    "    for i in range(len(xs)):\n",
    "        for j in range(len(xs)):\n",
    "            xvs[i]=xvs[i]+(xs[j]-xs[i])*0.01/len(xs)\n",
    "    for i in range(len(xs)):\n",
    "        for j in range(len(xs)):\n",
    "            yvs[i]=yvs[i]+(ys[j]-ys[i])*0.01/len(xs)\n",
    "    # Fly away from nearby boids\n",
    "    for i in range(len(xs)):\n",
    "        for j in range(len(xs)):\n",
    "            if (xs[j]-xs[i])**2 + (ys[j]-ys[i])**2 < 100:\n",
    "                xvs[i]=xvs[i]+(xs[i]-xs[j])\n",
    "                yvs[i]=yvs[i]+(ys[i]-ys[j])\n",
    "    # Try to match speed with nearby boids\n",
    "    for i in range(len(xs)):\n",
    "        for j in range(len(xs)):\n",
    "            if (xs[j]-xs[i])**2 + (ys[j]-ys[i])**2 < 10000:\n",
    "                xvs[i]=xvs[i]+(xvs[j]-xvs[i])*0.125/len(xs)\n",
    "                yvs[i]=yvs[i]+(yvs[j]-yvs[i])*0.125/len(xs)\n",
    "    # Move according to velocities\n",
    "    for i in range(len(xs)):\n",
    "        xs[i]=xs[i]+xvs[i]\n",
    "        ys[i]=ys[i]+yvs[i]\n",
    "\n",
    "\n",
    "figure=plt.figure()\n",
    "axes=plt.axes(xlim=(-500,1500), ylim=(-500,1500))\n",
    "scatter=axes.scatter(boids[0],boids[1])\n",
    "\n",
    "def animate(frame):\n",
    "   update_boids(boids)\n",
    "   scatter.set_offsets(zip(boids[0],boids[1]))\n",
    "\n",
    "\n",
    "anim = animation.FuncAnimation(figure, animate,\n",
    "                               frames=200, interval=50)"
   ]
  },
  {
   "cell_type": "markdown",
   "metadata": {},
   "source": [
    "If you go into your folder and run the code:"
   ]
  },
  {
   "cell_type": "markdown",
   "metadata": {},
   "source": [
    "``` bash\n",
    "cd bad_boids\n",
    "python bad_boids.py\n",
    "```"
   ]
  },
  {
   "cell_type": "markdown",
   "metadata": {},
   "source": [
    "\n",
    "You should be able to see some birds flying around, and then disappearing as they leave the window.\n"
   ]
  },
  {
   "cell_type": "markdown",
   "metadata": {},
   "source": [
    "### Your Task"
   ]
  },
  {
   "cell_type": "markdown",
   "metadata": {},
   "source": [
    "\n",
    "Transform bad_boids **gradually** into better code, while making sure it still works, using a Refactoring approach.\n"
   ]
  },
  {
   "cell_type": "markdown",
   "metadata": {},
   "source": [
    "### A regression test"
   ]
  },
  {
   "cell_type": "markdown",
   "metadata": {},
   "source": [
    "\n",
    "First, have a look at the regression test I made.\n",
    "\n",
    "To create it, I saved out the before and after state\n",
    "for one iteration of some boids, using ipython:\n"
   ]
  },
  {
   "cell_type": "markdown",
   "metadata": {
    "collapsed": false
   },
   "source": [
    "``` python\n",
    "import yaml\n",
    "import boids\n",
    "from copy import deepcopy\n",
    "before=deepcopy(boids.boids)\n",
    "boids.update_boids(boids.boids)\n",
    "after=boids.boids\n",
    "fixture={\"before\":before,\"after\":after}\n",
    "fixture_file=open(\"fixture.yml\",'w')\n",
    "fixture_file.write(yaml.dump(fixture))\n",
    "fixture_file.close()\n",
    "```"
   ]
  },
  {
   "cell_type": "markdown",
   "metadata": {},
   "source": [
    "### Invoking the test"
   ]
  },
  {
   "cell_type": "markdown",
   "metadata": {},
   "source": [
    "\n",
    "Then, I used the fixture file to define the test:\n"
   ]
  },
  {
   "cell_type": "markdown",
   "metadata": {
    "collapsed": false
   },
   "source": [
    "``` python\n",
    "from boids import update_boids\n",
    "from nose.tools import assert_equal\n",
    "import os\n",
    "import yaml\n",
    "\n",
    "def test_bad_boids_regression():\n",
    "    regression_data=yaml.load(open(\n",
    "        os.path.join(os.path.dirname(__file__),\n",
    "        'fixture.yml')))\n",
    "    boid_data=regression_data[\"before\"]\n",
    "    update_boids(boid_data)\n",
    "    assert_equal(regression_data[\"after\"],boid_data)\n",
    "```"
   ]
  },
  {
   "cell_type": "markdown",
   "metadata": {},
   "source": [
    "### Make the regression test fail"
   ]
  },
  {
   "cell_type": "markdown",
   "metadata": {},
   "source": [
    "\n",
    "Check the tests pass:\n"
   ]
  },
  {
   "cell_type": "markdown",
   "metadata": {},
   "source": [
    "``` bash\n",
    "nosetests\n",
    "```"
   ]
  },
  {
   "cell_type": "markdown",
   "metadata": {},
   "source": [
    "\n",
    "Edit the file to make the test fail, see the fail, then reset it:\n"
   ]
  },
  {
   "cell_type": "markdown",
   "metadata": {},
   "source": [
    "```\n",
    "git checkout boids.py\n",
    "```"
   ]
  },
  {
   "cell_type": "markdown",
   "metadata": {},
   "source": [
    "### Start Refactoring"
   ]
  },
  {
   "cell_type": "markdown",
   "metadata": {},
   "source": [
    "\n",
    "Look at the code, consider the [list of refactorings](#refactoring-summary), and make changes\n",
    "\n",
    "Each time, do a git commit on your fork, and write a commit message explaining the \n",
    "refactoring you did.\n",
    "\n",
    "Try to keep the changes as small as possible.\n",
    "\n",
    "If your refactoring creates any units, (functions, modules, or classes)\n",
    "**write a unit test** for the unit: it is a good idea to get away from regression testing as soon as you can."
   ]
  }
 ],
 "metadata": {
  "jekyll": {
   "display_name": "Exercise - Boids"
  },
  "kernelspec": {
   "display_name": "Python 3",
   "language": "python",
   "name": "python3"
  },
  "language_info": {
   "codemirror_mode": {
    "name": "ipython",
    "version": 3
   },
   "file_extension": ".py",
   "mimetype": "text/x-python",
   "name": "python",
   "nbconvert_exporter": "python",
   "pygments_lexer": "ipython3",
   "version": "3.5.2"
  }
 },
 "nbformat": 4,
 "nbformat_minor": 0
}
