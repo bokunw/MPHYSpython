{
 "cells": [
  {
   "cell_type": "markdown",
   "metadata": {},
   "source": [
    "## Getting data from the Internet"
   ]
  },
  {
   "cell_type": "markdown",
   "metadata": {},
   "source": [
    "We've seen about obtaining data from our local file system."
   ]
  },
  {
   "cell_type": "markdown",
   "metadata": {},
   "source": [
    "The other common place today that we might want to obtain data is from the internet."
   ]
  },
  {
   "cell_type": "markdown",
   "metadata": {},
   "source": [
    "It's very common today to treat the web as a source and store of information; we need to be able to programmatically\n",
    "download data, and place it in Python objects."
   ]
  },
  {
   "cell_type": "markdown",
   "metadata": {},
   "source": [
    "We may also want to be able to programmatically *upload* data, for example, to automatically fill in forms."
   ]
  },
  {
   "cell_type": "markdown",
   "metadata": {},
   "source": [
    "This can be really powerful if we want to, for example, do automated metaanalysis across a selection of research papers."
   ]
  },
  {
   "cell_type": "markdown",
   "metadata": {},
   "source": [
    "### URLs"
   ]
  },
  {
   "cell_type": "markdown",
   "metadata": {},
   "source": [
    "All internet resources are defined by a Uniform Resource Locator."
   ]
  },
  {
   "cell_type": "code",
   "execution_count": 1,
   "metadata": {},
   "outputs": [
    {
     "data": {
      "text/plain": [
       "'http://maps.googleapis.com:80/maps/api/staticmap?size=400x400&center=51.51,-0.1275&zoom=12'"
      ]
     },
     "execution_count": 1,
     "metadata": {},
     "output_type": "execute_result"
    }
   ],
   "source": [
    "\"http://maps.googleapis.com:80/maps/api/staticmap?size=400x400&center=51.51,-0.1275&zoom=12\""
   ]
  },
  {
   "cell_type": "markdown",
   "metadata": {},
   "source": [
    "A url consists of:\n",
    "\n",
    "* A *scheme* (http, https, ssh, ...)\n",
    "* A *host* (maps.googleapis.com, the name of the remote computer you want to talk to)\n",
    "* A *port* (optional, most protocols have a typical port associated with them, e.g. 80 for http)\n",
    "* A *path* (Like a file path on the machine, here it is maps/api/staticmap)\n",
    "* A *query* part after a ?, (optional, usually ampersand-separated *parameters* e.g. size=400x400, or zoom=12)"
   ]
  },
  {
   "cell_type": "markdown",
   "metadata": {},
   "source": [
    "**Supplementary materials**: These can actually be different for different protocols, the above is a simplification, you can see more, for example, at\n",
    "    https://en.wikipedia.org/wiki/URI_scheme"
   ]
  },
  {
   "cell_type": "markdown",
   "metadata": {},
   "source": [
    "URLs are not allowed to include all characters; we need to, for example, \"escape\" a space that appears inside the URL,\n",
    "replacing it with %20, so e.g. a request of http://some example.com/ would need to be http://some%20example.com/\n"
   ]
  },
  {
   "cell_type": "markdown",
   "metadata": {},
   "source": [
    "**Supplementary materials**: The code used to replace each character is the [ASCII](http://www.asciitable.com) code for it."
   ]
  },
  {
   "cell_type": "markdown",
   "metadata": {},
   "source": [
    "**Supplementary materials**: The escaping rules are quite subtle. See https://en.wikipedia.org/wiki/Percent-encoding. The standard library provides the [urlencode](https://docs.python.org/3/library/urllib.parse.html#urllib.parse.urlencode) function that can take care of this for you. "
   ]
  },
  {
   "cell_type": "markdown",
   "metadata": {},
   "source": [
    "### Requests"
   ]
  },
  {
   "cell_type": "markdown",
   "metadata": {},
   "source": [
    "The python [requests](http://docs.python-requests.org/en/latest/) library can help us manage and manipulate URLs. It is easier to use than the 'urllib' library that is part of the standard library, and is included with anaconda and canopy. It sorts out escaping, parameter encoding, and so on for us."
   ]
  },
  {
   "cell_type": "markdown",
   "metadata": {},
   "source": [
    "To request the above URL, for example, we write:"
   ]
  },
  {
   "cell_type": "code",
   "execution_count": 2,
   "metadata": {},
   "outputs": [],
   "source": [
    "import requests"
   ]
  },
  {
   "cell_type": "code",
   "execution_count": 3,
   "metadata": {},
   "outputs": [],
   "source": [
    "response = requests.get(\"http://maps.googleapis.com/maps/api/staticmap\",\n",
    "                        params={\n",
    "        'size': '400x400',\n",
    "        'center': '51.51,-0.1275',\n",
    "        'zoom': 12\n",
    "    })"
   ]
  },
  {
   "cell_type": "code",
   "execution_count": 4,
   "metadata": {},
   "outputs": [
    {
     "data": {
      "text/plain": [
       "b'\\x89PNG\\r\\n\\x1a\\n\\x00\\x00\\x00\\rIHDR\\x00\\x00\\x01\\x90\\x00\\x00\\x01\\x90\\x08\\x06\\x00\\x00\\x00\\x80\\xbf6\\xcc\\x00\\x00\\x00\\x06bKGD\\x00\\xff\\x00\\xff\\x00\\xff\\xa0\\xbd\\xa7'"
      ]
     },
     "execution_count": 4,
     "metadata": {},
     "output_type": "execute_result"
    }
   ],
   "source": [
    "response.content[0:50]"
   ]
  },
  {
   "cell_type": "markdown",
   "metadata": {},
   "source": [
    "When we do a request, the result comes back as text. For the png image in the above, this isn't very readable:"
   ]
  },
  {
   "cell_type": "markdown",
   "metadata": {},
   "source": [
    "Just as for file access, therefore, we will need to send the text we get to a python module which understands that file format."
   ]
  },
  {
   "cell_type": "markdown",
   "metadata": {},
   "source": [
    "Again, it is important to separate the *transport* model (e.g. a file system, or an \"http request\" for the web) from the data model of the data that is returned."
   ]
  },
  {
   "cell_type": "markdown",
   "metadata": {},
   "source": [
    "### Example: Sunspots"
   ]
  },
  {
   "cell_type": "markdown",
   "metadata": {},
   "source": [
    "Let's try to get something scientific: the sunspot cycle data from http://sidc.be/silso/home:"
   ]
  },
  {
   "cell_type": "code",
   "execution_count": 5,
   "metadata": {},
   "outputs": [],
   "source": [
    "spots = requests.get('http://www.sidc.be/silso/INFO/snmtotcsv.php').text"
   ]
  },
  {
   "cell_type": "code",
   "execution_count": 6,
   "metadata": {},
   "outputs": [
    {
     "data": {
      "text/plain": [
       "'1749;01;1749.042;  96.7; -1.0;   -1;1\\n1749;02;1749.123; 104.3; -1.0;   -1;1\\n1749'"
      ]
     },
     "execution_count": 6,
     "metadata": {},
     "output_type": "execute_result"
    }
   ],
   "source": [
    "spots[0:80]"
   ]
  },
  {
   "cell_type": "markdown",
   "metadata": {},
   "source": [
    "This looks like semicolon-separated data, with different records on different lines. (Line separators come out as `\\n`)"
   ]
  },
  {
   "cell_type": "markdown",
   "metadata": {},
   "source": [
    "There are many many scientific datasets which can now be downloaded like this - integrating the download into your data\n",
    "pipeline can help to keep your data flows organised."
   ]
  },
  {
   "cell_type": "markdown",
   "metadata": {},
   "source": [
    "### Writing our own Parser"
   ]
  },
  {
   "cell_type": "markdown",
   "metadata": {},
   "source": [
    "We'll need a python library to handle semicolon-separated data like the sunspot data."
   ]
  },
  {
   "cell_type": "markdown",
   "metadata": {},
   "source": [
    "You might be thinking: \"But I can do that myself!\":"
   ]
  },
  {
   "cell_type": "code",
   "execution_count": 7,
   "metadata": {},
   "outputs": [
    {
     "data": {
      "text/plain": [
       "['1749;01;1749.042;  96.7; -1.0;   -1;1',\n",
       " '1749;02;1749.123; 104.3; -1.0;   -1;1',\n",
       " '1749;03;1749.204; 116.7; -1.0;   -1;1',\n",
       " '1749;04;1749.288;  92.8; -1.0;   -1;1',\n",
       " '1749;05;1749.371; 141.7; -1.0;   -1;1']"
      ]
     },
     "execution_count": 7,
     "metadata": {},
     "output_type": "execute_result"
    }
   ],
   "source": [
    "lines = spots.split(\"\\n\")\n",
    "lines[0:5]"
   ]
  },
  {
   "cell_type": "code",
   "execution_count": 8,
   "metadata": {},
   "outputs": [],
   "source": [
    "years=[line.split(\";\")[0] for line in lines]"
   ]
  },
  {
   "cell_type": "code",
   "execution_count": 9,
   "metadata": {},
   "outputs": [
    {
     "data": {
      "text/plain": [
       "['1749',\n",
       " '1749',\n",
       " '1749',\n",
       " '1749',\n",
       " '1749',\n",
       " '1749',\n",
       " '1749',\n",
       " '1749',\n",
       " '1749',\n",
       " '1749',\n",
       " '1749',\n",
       " '1749',\n",
       " '1750',\n",
       " '1750',\n",
       " '1750']"
      ]
     },
     "execution_count": 9,
     "metadata": {},
     "output_type": "execute_result"
    }
   ],
   "source": [
    "years[0:15]"
   ]
  },
  {
   "cell_type": "markdown",
   "metadata": {},
   "source": [
    "But **don't**: what if, for example, one of the records contains a separator inside it; most computers will put the content in quotes,\n",
    "so that, for example,\n",
    "\n",
    "    \"something; something\"; something; something\n",
    "    \n",
    "has three fields, the first of which is\n",
    "\n",
    "    something; something\n",
    "    \n",
    " The naive code above would give four fields, of which the first is \n",
    " \n",
    "    \"Something"
   ]
  },
  {
   "cell_type": "markdown",
   "metadata": {},
   "source": [
    "You'll never manage to get all that right; so you'll be better off using a library to do it."
   ]
  },
  {
   "cell_type": "markdown",
   "metadata": {},
   "source": [
    "### Writing data to the internet"
   ]
  },
  {
   "cell_type": "markdown",
   "metadata": {},
   "source": [
    "Note that we're using `requests.get`. `get` is used to receive data from the web.\n",
    "You can also use `post` to fill in a web-form programmatically."
   ]
  },
  {
   "cell_type": "markdown",
   "metadata": {},
   "source": [
    "**Supplementary material**: Learn about using `post` with [requests](http://docs.python-requests.org/en/latest/user/quickstart/)."
   ]
  },
  {
   "cell_type": "markdown",
   "metadata": {},
   "source": [
    "**Supplementary material**: Learn about the different kinds of [http request](https://en.wikipedia.org/wiki/Hypertext_Transfer_Protocol#Request_methods): [Get, Post, Put, Delete](https://en.wikipedia.org/wiki/Create,_read,_update_and_delete)..."
   ]
  },
  {
   "cell_type": "markdown",
   "metadata": {},
   "source": [
    "This can be used for all kinds of things, for example, to programmatically add data to a web resource. It's all well beyond\n",
    "our scope for this course, but it's important to know it's possible, and start to think about the scientific possibilities."
   ]
  }
 ],
 "metadata": {
  "jekyll": {
   "display_name": "Internet"
  },
  "kernelspec": {
   "display_name": "Python 3",
   "language": "python",
   "name": "python3"
  },
  "language_info": {
   "codemirror_mode": {
    "name": "ipython",
    "version": 3
   },
   "file_extension": ".py",
   "mimetype": "text/x-python",
   "name": "python",
   "nbconvert_exporter": "python",
   "pygments_lexer": "ipython3",
   "version": "3.6.2"
  }
 },
 "nbformat": 4,
 "nbformat_minor": 1
}
