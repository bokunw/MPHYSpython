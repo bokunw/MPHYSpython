{
 "cells": [
  {
   "cell_type": "markdown",
   "metadata": {},
   "source": [
    "## Exercise/Example: the biggest Earthquake in the UK this Century"
   ]
  },
  {
   "cell_type": "markdown",
   "metadata": {},
   "source": [
    "### The Problem"
   ]
  },
  {
   "cell_type": "markdown",
   "metadata": {},
   "source": [
    "GeoJSON is a json-based file format for sharing geographic data. One example dataset is the USGS earthquake data:"
   ]
  },
  {
   "cell_type": "code",
   "execution_count": 1,
   "metadata": {},
   "outputs": [],
   "source": [
    "import requests\n",
    "quakes = requests.get(\"http://earthquake.usgs.gov/fdsnws/event/1/query.geojson\",\n",
    "                      params={\n",
    "                        'starttime': \"2000-01-01\",\n",
    "                        \"maxlatitude\": \"58.723\",\n",
    "                        \"minlatitude\": \"50.008\",\n",
    "                        \"maxlongitude\": \"1.67\",\n",
    "                        \"minlongitude\": \"-9.756\",\n",
    "                        \"minmagnitude\": \"1\",\n",
    "                        \"endtime\": \"2018-10-11\",\n",
    "                        \"orderby\": \"time-asc\"}\n",
    "                   )"
   ]
  },
  {
   "cell_type": "code",
   "execution_count": 2,
   "metadata": {},
   "outputs": [
    {
     "data": {
      "text/plain": [
       "'{\"type\":\"FeatureCollection\",\"metadata\":{\"generated\":1539020609000,\"url\":\"https://earthquake.usgs.gov'"
      ]
     },
     "execution_count": 2,
     "metadata": {},
     "output_type": "execute_result"
    }
   ],
   "source": [
    "quakes.text[0:100]"
   ]
  },
  {
   "cell_type": "markdown",
   "metadata": {},
   "source": [
    "Your exercise: determine the location of the largest magnitude earthquake in the UK this century."
   ]
  },
  {
   "cell_type": "markdown",
   "metadata": {},
   "source": [
    "You'll need to:\n",
    "* Get the text of the web result\n",
    "* Parse the data as JSON\n",
    "* Understand how the data is structured into dictionaries and lists\n",
    "   * Where is the magnitude?\n",
    "   * Where is the place description or coordinates?\n",
    "* Program a search through all the quakes to find the biggest quake\n",
    "* Find the place of the biggest quake\n",
    "* Form a URL for Google Maps or Yandex Maps at that latitude and longitude: look back at the introductory example\n",
    "* Display that image"
   ]
  }
 ],
 "metadata": {
  "jekyll": {
   "display_name": "Earthquakes Exercise"
  },
  "kernelspec": {
   "display_name": "Python 3",
   "language": "python",
   "name": "python3"
  },
  "language_info": {
   "codemirror_mode": {
    "name": "ipython",
    "version": 3
   },
   "file_extension": ".py",
   "mimetype": "text/x-python",
   "name": "python",
   "nbconvert_exporter": "python",
   "pygments_lexer": "ipython3",
   "version": "3.6.2"
  }
 },
 "nbformat": 4,
 "nbformat_minor": 1
}
