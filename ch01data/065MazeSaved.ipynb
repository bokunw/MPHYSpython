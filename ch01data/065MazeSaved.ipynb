{
 "cells": [
  {
   "cell_type": "code",
   "execution_count": 1,
   "metadata": {
    "collapsed": true
   },
   "outputs": [],
   "source": [
    "house = {\n",
    "    'living' : {\n",
    "        'exits': {\n",
    "            'north' : 'kitchen',\n",
    "            'outside' : 'garden',\n",
    "            'upstairs' : 'bedroom'\n",
    "        },\n",
    "        'people' : ['James'],\n",
    "        'capacity' : 2\n",
    "    },\n",
    "    'kitchen' : {\n",
    "        'exits': {\n",
    "            'south' : 'living'\n",
    "        },\n",
    "        'people' : [],\n",
    "        'capacity' : 1\n",
    "    },\n",
    "    'garden' : {\n",
    "        'exits': {\n",
    "            'inside' : 'living'\n",
    "        },\n",
    "        'people' : ['Sue'],\n",
    "        'capacity' : 3\n",
    "    },\n",
    "    'bedroom' : {\n",
    "        'exits': {\n",
    "            'downstairs' : 'living',\n",
    "            'jump' : 'garden'\n",
    "        },\n",
    "        'people' : [],\n",
    "        'capacity' : 1\n",
    "    }\n",
    "}"
   ]
  },
  {
   "cell_type": "markdown",
   "metadata": {},
   "source": [
    "Save the maze with json:"
   ]
  },
  {
   "cell_type": "code",
   "execution_count": 2,
   "metadata": {
    "collapsed": true
   },
   "outputs": [],
   "source": [
    "import json"
   ]
  },
  {
   "cell_type": "code",
   "execution_count": 3,
   "metadata": {
    "collapsed": false
   },
   "outputs": [],
   "source": [
    "with open('maze.json','w') as json_maze_out:\n",
    "    json_maze_out.write(json.dumps(house))"
   ]
  },
  {
   "cell_type": "markdown",
   "metadata": {},
   "source": [
    "Consider the file on the disk:"
   ]
  },
  {
   "cell_type": "code",
   "execution_count": 4,
   "metadata": {
    "collapsed": false
   },
   "outputs": [
    {
     "name": "stdout",
     "output_type": "stream",
     "text": [
      "{\"living\": {\"exits\": {\"upstairs\": \"bedroom\", \"outside\": \"garden\", \"north\": \"kitchen\"}, \"capacity\": 2, \"people\": [\"James\"]}, \"bedroom\": {\"exits\": {\"downstairs\": \"living\", \"jump\": \"garden\"}, \"capacity\": 1, \"people\": []}, \"garden\": {\"exits\": {\"inside\": \"living\"}, \"capacity\": 3, \"people\": [\"Sue\"]}, \"kitchen\": {\"exits\": {\"south\": \"living\"}, \"capacity\": 1, \"people\": []}}"
     ]
    }
   ],
   "source": [
    "%%bash\n",
    "cat 'maze.json'"
   ]
  },
  {
   "cell_type": "markdown",
   "metadata": {},
   "source": [
    "and now load it into a different variable:"
   ]
  },
  {
   "cell_type": "code",
   "execution_count": 5,
   "metadata": {
    "collapsed": false
   },
   "outputs": [],
   "source": [
    "with open('maze.json') as json_maze_in:\n",
    "    maze_again = json.load(json_maze_in)"
   ]
  },
  {
   "cell_type": "code",
   "execution_count": 6,
   "metadata": {
    "collapsed": false
   },
   "outputs": [
    {
     "data": {
      "text/plain": [
       "{'bedroom': {'capacity': 1,\n",
       "  'exits': {'downstairs': 'living', 'jump': 'garden'},\n",
       "  'people': []},\n",
       " 'garden': {'capacity': 3, 'exits': {'inside': 'living'}, 'people': ['Sue']},\n",
       " 'kitchen': {'capacity': 1, 'exits': {'south': 'living'}, 'people': []},\n",
       " 'living': {'capacity': 2,\n",
       "  'exits': {'north': 'kitchen', 'outside': 'garden', 'upstairs': 'bedroom'},\n",
       "  'people': ['James']}}"
      ]
     },
     "execution_count": 6,
     "metadata": {},
     "output_type": "execute_result"
    }
   ],
   "source": [
    "maze_again"
   ]
  },
  {
   "cell_type": "markdown",
   "metadata": {},
   "source": [
    "Or with YAML:"
   ]
  },
  {
   "cell_type": "code",
   "execution_count": 7,
   "metadata": {
    "collapsed": true
   },
   "outputs": [],
   "source": [
    "import yaml"
   ]
  },
  {
   "cell_type": "code",
   "execution_count": 8,
   "metadata": {
    "collapsed": true
   },
   "outputs": [],
   "source": [
    "with open('maze.yaml','w') as yaml_maze_out:\n",
    "    yaml_maze_out.write(yaml.dump(house))"
   ]
  },
  {
   "cell_type": "code",
   "execution_count": 9,
   "metadata": {
    "collapsed": false
   },
   "outputs": [
    {
     "name": "stdout",
     "output_type": "stream",
     "text": [
      "bedroom:\n",
      "  capacity: 1\n",
      "  exits: {downstairs: living, jump: garden}\n",
      "  people: []\n",
      "garden:\n",
      "  capacity: 3\n",
      "  exits: {inside: living}\n",
      "  people: [Sue]\n",
      "kitchen:\n",
      "  capacity: 1\n",
      "  exits: {south: living}\n",
      "  people: []\n",
      "living:\n",
      "  capacity: 2\n",
      "  exits: {north: kitchen, outside: garden, upstairs: bedroom}\n",
      "  people: [James]\n"
     ]
    }
   ],
   "source": [
    "%%bash\n",
    "cat 'maze.yaml'"
   ]
  },
  {
   "cell_type": "code",
   "execution_count": 10,
   "metadata": {
    "collapsed": true
   },
   "outputs": [],
   "source": [
    "with open('maze.yaml') as yaml_maze_in:\n",
    "    maze_again = yaml.load(yaml_maze_in)"
   ]
  },
  {
   "cell_type": "code",
   "execution_count": 11,
   "metadata": {
    "collapsed": false
   },
   "outputs": [
    {
     "data": {
      "text/plain": [
       "{'bedroom': {'capacity': 1,\n",
       "  'exits': {'downstairs': 'living', 'jump': 'garden'},\n",
       "  'people': []},\n",
       " 'garden': {'capacity': 3, 'exits': {'inside': 'living'}, 'people': ['Sue']},\n",
       " 'kitchen': {'capacity': 1, 'exits': {'south': 'living'}, 'people': []},\n",
       " 'living': {'capacity': 2,\n",
       "  'exits': {'north': 'kitchen', 'outside': 'garden', 'upstairs': 'bedroom'},\n",
       "  'people': ['James']}}"
      ]
     },
     "execution_count": 11,
     "metadata": {},
     "output_type": "execute_result"
    }
   ],
   "source": [
    "maze_again"
   ]
  }
 ],
 "metadata": {
  "jekyll": {
   "display_name": "Maze Files Solution"
  },
  "kernelspec": {
   "display_name": "Python 3",
   "language": "python",
   "name": "python3"
  },
  "language_info": {
   "codemirror_mode": {
    "name": "ipython",
    "version": 3
   },
   "file_extension": ".py",
   "mimetype": "text/x-python",
   "name": "python",
   "nbconvert_exporter": "python",
   "pygments_lexer": "ipython3",
   "version": "3.5.2"
  }
 },
 "nbformat": 4,
 "nbformat_minor": 0
}
